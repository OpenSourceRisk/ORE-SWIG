{
 "cells": [
  {
   "cell_type": "markdown",
   "id": "50e0d687-3ef9-4c01-b8b2-e47d520d4bfd",
   "metadata": {},
   "source": [
    "# FX TaRF Example"
   ]
  },
  {
   "cell_type": "code",
   "execution_count": null,
   "id": "be9132cf-0eec-4a99-aae1-99b291de45d1",
   "metadata": {},
   "outputs": [],
   "source": [
    "from OREPlus import *\n",
    "import sys, time, math\n",
    "sys.path.append('..')\n",
    "import utilities\n",
    "import matplotlib.pyplot as plt"
   ]
  },
  {
   "cell_type": "code",
   "execution_count": null,
   "id": "db09c41c-7221-4d2b-9298-5aee134c49e6",
   "metadata": {},
   "outputs": [],
   "source": [
    "params = Parameters()\n",
    "params.fromFile(\"Input/ore.xml\")\n",
    "ore = OREApp(params, False)"
   ]
  },
  {
   "cell_type": "code",
   "execution_count": null,
   "id": "42ab8755-37ce-4066-95fb-1f136020aeb7",
   "metadata": {},
   "outputs": [],
   "source": [
    "ore.run()\n",
    "errors = ore.getErrors()\n",
    "print (\"Completed with\", len(errors), \"errors/warnings\")\n",
    "if len(errors) > 0:\n",
    "    for e in errors:\n",
    "       print(e)\n",
    "print (\"Run time: %.4f sec\" % ore.getRunTime())        "
   ]
  },
  {
   "cell_type": "code",
   "execution_count": null,
   "id": "5bbe3944-77d4-4267-89d8-b1f91160ce51",
   "metadata": {},
   "outputs": [],
   "source": [
    "utilities.writeReport(ore.getReport(\"npv\"), [0, 1, 2, 4, 5])"
   ]
  },
  {
   "cell_type": "code",
   "execution_count": null,
   "id": "7df81701-70dc-4ba7-b573-e18d77a9460c",
   "metadata": {},
   "outputs": [],
   "source": [
    "utilities.writeReport(ore.getReport(\"cashflow\"), [2, 4, 5, 6, 7, 16, 17])"
   ]
  },
  {
   "cell_type": "code",
   "execution_count": null,
   "id": "e6232c22-5db1-4f90-b375-4595f5155e34",
   "metadata": {},
   "outputs": [],
   "source": [
    "sum(ore.getReport(\"cashflow\").dataAsReal(17))"
   ]
  },
  {
   "cell_type": "code",
   "execution_count": null,
   "id": "e4fd5de6-2a16-4a69-822f-b1e4eec9d7dd",
   "metadata": {},
   "outputs": [],
   "source": [
    "report = ore.getReport(\"exposure_trade_FX_TaRF\")\n",
    "\n",
    "time = report.dataAsReal(2)\n",
    "epe = report.dataAsReal(3);\n",
    "ene = report.dataAsReal(4);\n",
    "    \n",
    "fig = plt.figure(figsize=(10, 5))\n",
    "gs = plt.GridSpec(nrows=1, ncols=1)\n",
    "ax = fig.add_subplot(gs[0, 0])\n",
    "\n",
    "ax.plot(time, epe, label='Swap EPE')\n",
    "ax.plot(time, ene, label='Swap ENE')\n",
    "ax.set(xlabel='Time/Years')\n",
    "ax.set(ylabel='Exposure')\n",
    "ax.set_title('Exposure')\n",
    "ax.legend()\n",
    "\n",
    "plt.show()"
   ]
  },
  {
   "cell_type": "code",
   "execution_count": null,
   "id": "c4ff71ba-adca-4ed5-8784-2cb153b199a4",
   "metadata": {},
   "outputs": [],
   "source": []
  }
 ],
 "metadata": {
  "kernelspec": {
   "display_name": "Python 3 (ipykernel)",
   "language": "python",
   "name": "python3"
  },
  "language_info": {
   "codemirror_mode": {
    "name": "ipython",
    "version": 3
   },
   "file_extension": ".py",
   "mimetype": "text/x-python",
   "name": "python",
   "nbconvert_exporter": "python",
   "pygments_lexer": "ipython3",
   "version": "3.9.10"
  }
 },
 "nbformat": 4,
 "nbformat_minor": 5
}
