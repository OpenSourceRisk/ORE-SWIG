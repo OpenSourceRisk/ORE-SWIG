{
 "cells": [
  {
   "cell_type": "markdown",
   "metadata": {
    "extensions": {
     "jupyter_dashboards": {
      "version": 1,
      "views": {
       "grid_default": {
        "col": 0,
        "height": 4,
        "hidden": true,
        "row": 20,
        "width": 4
       },
       "report_default": {
        "hidden": false
       }
      }
     }
    }
   },
   "source": [
    "\n",
    "# Getting Started"
   ]
  },
  {
   "cell_type": "markdown",
   "metadata": {
    "extensions": {
     "jupyter_dashboards": {
      "version": 1,
      "views": {
       "grid_default": {
        "col": 4,
        "height": 4,
        "hidden": true,
        "row": 26,
        "width": 4
       },
       "report_default": {
        "hidden": false
       }
      }
     }
    }
   },
   "source": [
    "This dashboard demonstrates several ways of interacting with ORE in a Jupyter notebook \n",
    "- Portfolio: Single Swap\n",
    "- Market: Minimal setup with flat curves\n",
    "- Analytics: Valuation, cashflows, sensitivities, exposure simulation and XVA\n",
    "\n",
    "Prerequisites:\n",
    "- Python 3\n",
    "- ORE Python module: run \"**pip install open-source-risk-engine**\" to get the latest version"
   ]
  },
  {
   "cell_type": "markdown",
   "metadata": {
    "extensions": {
     "jupyter_dashboards": {
      "version": 1,
      "views": {
       "grid_default": {
        "col": 0,
        "height": 2,
        "hidden": false,
        "row": 0,
        "width": 12
       },
       "report_default": {
        "hidden": false
       }
      }
     }
    }
   },
   "source": [
    "## Launch ORE"
   ]
  },
  {
   "cell_type": "markdown",
   "metadata": {
    "extensions": {
     "jupyter_dashboards": {
      "version": 1,
      "views": {
       "grid_default": {
        "col": 0,
        "height": 4,
        "hidden": true,
        "row": 12,
        "width": 12
       },
       "report_default": {
        "hidden": false
       }
      }
     }
    },
    "tags": []
   },
   "source": [
    "Kick off a process in ORE, loading all inputs from Input/ore.xml and the files referenced therein. \n",
    "This is equivalent to using the ORE command line application."
   ]
  },
  {
   "cell_type": "code",
   "execution_count": null,
   "metadata": {
    "extensions": {
     "jupyter_dashboards": {
      "version": 1,
      "views": {
       "grid_default": {
        "hidden": true
       },
       "report_default": {
        "hidden": true
       }
      }
     }
    },
    "scrolled": true
   },
   "outputs": [],
   "source": [
    "from OREAnalytics import *\n",
    "import sys, time, math\n",
    "sys.path.append('..')\n",
    "import utilities\n",
    "\n",
    "params = Parameters()\n",
    "params.fromFile(\"Input/ore.xml\")\n",
    "\n",
    "ore = OREApp(params, False)"
   ]
  },
  {
   "cell_type": "markdown",
   "metadata": {
    "extensions": {
     "jupyter_dashboards": {
      "version": 1,
      "views": {
       "grid_default": {
        "col": 0,
        "height": 4,
        "hidden": true,
        "row": 12,
        "width": 12
       },
       "report_default": {
        "hidden": false
       }
      }
     }
    }
   },
   "source": [
    "**This should have loaded the main inputs**\n",
    "- portfolio\n",
    "- today's market configuration\n",
    "- conventions\n",
    "- curve configrations\n",
    "- pricing engine configuration\n",
    "\n",
    "see Input/ore.xml. We spot check the loaded portfolio, print the xml tree to the screen:"
   ]
  },
  {
   "cell_type": "code",
   "execution_count": null,
   "metadata": {
    "extensions": {
     "jupyter_dashboards": {
      "version": 1,
      "views": {
       "grid_default": {
        "hidden": true
       },
       "report_default": {
        "hidden": true
       }
      }
     }
    },
    "tags": []
   },
   "outputs": [],
   "source": [
    "portfolio = ore.getInputs().portfolio()\n",
    "print(\"Trades:\", portfolio.size())\n",
    "for id in portfolio.ids():\n",
    "    trade = portfolio.get(id)\n",
    "    print(\"Trade:  id=%s type=%s\" % (id, trade.tradeType()))\n",
    "\n",
    "portfolioXML = portfolio.toXMLString()\n",
    "print()\n",
    "print(portfolioXML)"
   ]
  },
  {
   "cell_type": "markdown",
   "metadata": {
    "extensions": {
     "jupyter_dashboards": {
      "version": 1,
      "views": {
       "grid_default": {
        "col": 0,
        "height": 4,
        "hidden": true,
        "row": 12,
        "width": 12
       },
       "report_default": {
        "hidden": false
       }
      }
     }
    }
   },
   "source": [
    "**Kick off the ORE process**"
   ]
  },
  {
   "cell_type": "code",
   "execution_count": null,
   "metadata": {
    "extensions": {
     "jupyter_dashboards": {
      "version": 1,
      "views": {
       "grid_default": {
        "hidden": true
       },
       "report_default": {
        "hidden": true
       }
      }
     }
    },
    "scrolled": true
   },
   "outputs": [],
   "source": [
    "ore.run()\n",
    "\n",
    "errors = ore.getErrors()\n",
    "print (\"Completed with\", len(errors), \"errors/warnings\")\n",
    "if len(errors) > 0:\n",
    "    for e in errors:\n",
    "        print(e)\n",
    "print (\"Run time: %.4f sec\" % ore.getRunTime())        "
   ]
  },
  {
   "cell_type": "markdown",
   "metadata": {
    "extensions": {
     "jupyter_dashboards": {
      "version": 1,
      "views": {
       "grid_default": {
        "col": 0,
        "height": 2,
        "hidden": false,
        "row": 7,
        "width": 12
       },
       "report_default": {
        "hidden": false
       }
      }
     }
    }
   },
   "source": [
    "## Query Results"
   ]
  },
  {
   "cell_type": "markdown",
   "metadata": {
    "extensions": {
     "jupyter_dashboards": {
      "version": 1,
      "views": {
       "grid_default": {
        "col": 0,
        "height": 4,
        "hidden": true,
        "row": 31,
        "width": 12
       },
       "report_default": {
        "hidden": false
       }
      }
     }
    },
    "tags": []
   },
   "source": [
    "The results of the ORE run above have been written to the Output folder.\n",
    "Moreover all results are stored in memory and can be queried as follows.\n",
    "\n",
    "First, double-check which analytics we have requested, see Input/ore.xml:"
   ]
  },
  {
   "cell_type": "code",
   "execution_count": null,
   "metadata": {
    "extensions": {
     "jupyter_dashboards": {
      "version": 1,
      "views": {
       "grid_default": {
        "hidden": true
       },
       "report_default": {
        "hidden": true
       }
      }
     }
    },
    "tags": []
   },
   "outputs": [],
   "source": [
    "utilities.writeList(ore.getAnalyticTypes())"
   ]
  },
  {
   "cell_type": "markdown",
   "metadata": {
    "extensions": {
     "jupyter_dashboards": {
      "version": 1,
      "views": {
       "grid_default": {
        "col": 0,
        "height": 4,
        "hidden": true,
        "row": 31,
        "width": 12
       },
       "report_default": {
        "hidden": false
       }
      }
     }
    }
   },
   "source": [
    "Now list all reports that have been generated:"
   ]
  },
  {
   "cell_type": "code",
   "execution_count": null,
   "metadata": {
    "extensions": {
     "jupyter_dashboards": {
      "version": 1,
      "views": {
       "grid_default": {
        "col": 0,
        "height": 7,
        "hidden": false,
        "row": 9,
        "width": 12
       },
       "report_default": {
        "hidden": true
       }
      }
     }
    }
   },
   "outputs": [],
   "source": [
    "utilities.writeList(ore.getReportNames())"
   ]
  },
  {
   "cell_type": "markdown",
   "metadata": {
    "extensions": {
     "jupyter_dashboards": {
      "version": 1,
      "views": {
       "grid_default": {
        "col": 0,
        "height": 2,
        "hidden": false,
        "row": 7,
        "width": 12
       },
       "report_default": {
        "hidden": false
       }
      }
     }
    },
    "tags": []
   },
   "source": [
    "## NPV report"
   ]
  },
  {
   "cell_type": "markdown",
   "metadata": {
    "extensions": {
     "jupyter_dashboards": {
      "version": 1,
      "views": {
       "grid_default": {
        "col": 0,
        "height": 4,
        "hidden": true,
        "row": 31,
        "width": 12
       },
       "report_default": {
        "hidden": false
       }
      }
     }
    }
   },
   "source": [
    "Pick the npv report, check its structure..."
   ]
  },
  {
   "cell_type": "code",
   "execution_count": null,
   "metadata": {
    "extensions": {
     "jupyter_dashboards": {
      "version": 1,
      "views": {
       "grid_default": {
        "hidden": true
       },
       "report_default": {
        "hidden": true
       }
      }
     }
    },
    "tags": []
   },
   "outputs": [],
   "source": [
    "reportName = \"npv\"\n",
    "report = ore.getReport(reportName)\n",
    "utilities.checkReportStructure(reportName, report)"
   ]
  },
  {
   "cell_type": "markdown",
   "metadata": {
    "extensions": {
     "jupyter_dashboards": {
      "version": 1,
      "views": {
       "grid_default": {
        "col": 0,
        "height": 4,
        "hidden": true,
        "row": 31,
        "width": 4
       },
       "report_default": {
        "hidden": false
       }
      }
     }
    }
   },
   "source": [
    "... and write a subset of the NPV report columns (0, 1, 2, 4, 5):"
   ]
  },
  {
   "cell_type": "code",
   "execution_count": null,
   "metadata": {
    "extensions": {
     "jupyter_dashboards": {
      "version": 1,
      "views": {
       "grid_default": {
        "col": 0,
        "height": 20,
        "hidden": false,
        "row": 18,
        "width": null
       },
       "report_default": {
        "hidden": false
       }
      }
     }
    }
   },
   "outputs": [],
   "source": [
    "utilities.writeReport(report, [0, 1, 2, 4, 5])"
   ]
  },
  {
   "cell_type": "markdown",
   "metadata": {
    "extensions": {
     "jupyter_dashboards": {
      "version": 1,
      "views": {
       "grid_default": {
        "col": 0,
        "height": 2,
        "hidden": false,
        "row": 7,
        "width": 12
       },
       "report_default": {
        "hidden": false
       }
      }
     }
    }
   },
   "source": [
    "## Inspect the cashflow report"
   ]
  },
  {
   "cell_type": "markdown",
   "metadata": {
    "extensions": {
     "jupyter_dashboards": {
      "version": 1,
      "views": {
       "grid_default": {
        "col": 0,
        "height": 4,
        "hidden": true,
        "row": 31,
        "width": 12
       },
       "report_default": {
        "hidden": false
       }
      }
     }
    },
    "tags": []
   },
   "source": [
    "Pick the cashflow report, check its structure..."
   ]
  },
  {
   "cell_type": "code",
   "execution_count": null,
   "metadata": {
    "extensions": {
     "jupyter_dashboards": {
      "version": 1,
      "views": {
       "grid_default": {
        "hidden": true
       },
       "report_default": {
        "hidden": true
       }
      }
     }
    }
   },
   "outputs": [],
   "source": [
    "reportName = \"cashflow\"\n",
    "report = ore.getReport(reportName)\n",
    "utilities.checkReportStructure(reportName, report)"
   ]
  },
  {
   "cell_type": "markdown",
   "metadata": {
    "extensions": {
     "jupyter_dashboards": {
      "version": 1,
      "views": {
       "grid_default": {
        "col": 0,
        "height": 4,
        "hidden": true,
        "row": 31,
        "width": 4
       },
       "report_default": {
        "hidden": false
       }
      }
     }
    }
   },
   "source": [
    "... and write a subset of the cashflow report columns:"
   ]
  },
  {
   "cell_type": "code",
   "execution_count": null,
   "metadata": {
    "extensions": {
     "jupyter_dashboards": {
      "version": 1,
      "views": {
       "grid_default": {
        "col": 0,
        "height": 20,
        "hidden": false,
        "row": 18,
        "width": null
       },
       "report_default": {
        "hidden": false
       }
      }
     }
    }
   },
   "outputs": [],
   "source": [
    "utilities.writeReport(report, [2, 3, 4, 5, 6])"
   ]
  },
  {
   "cell_type": "markdown",
   "metadata": {
    "extensions": {
     "jupyter_dashboards": {
      "version": 1,
      "views": {
       "grid_default": {
        "col": 0,
        "height": 2,
        "hidden": false,
        "row": 7,
        "width": 12
       },
       "report_default": {
        "hidden": false
       }
      }
     }
    }
   },
   "source": [
    "## Curves report"
   ]
  },
  {
   "cell_type": "markdown",
   "metadata": {
    "extensions": {
     "jupyter_dashboards": {
      "version": 1,
      "views": {
       "grid_default": {
        "col": 0,
        "height": 4,
        "hidden": true,
        "row": 31,
        "width": 4
       },
       "report_default": {
        "hidden": false
       }
      }
     }
    }
   },
   "source": [
    "See which curves have been written. Compare to the configuration in Input/todaysmarket.xml. "
   ]
  },
  {
   "cell_type": "code",
   "execution_count": null,
   "metadata": {
    "extensions": {
     "jupyter_dashboards": {
      "version": 1,
      "views": {
       "grid_default": {
        "hidden": true
       },
       "report_default": {
        "hidden": true
       }
      }
     }
    }
   },
   "outputs": [],
   "source": [
    "reportName = \"curves\"\n",
    "report = ore.getReport(reportName)\n",
    "utilities.checkReportStructure(reportName, report)"
   ]
  },
  {
   "cell_type": "markdown",
   "metadata": {
    "extensions": {
     "jupyter_dashboards": {
      "version": 1,
      "views": {
       "grid_default": {
        "col": 0,
        "height": 4,
        "hidden": true,
        "row": 31,
        "width": 4
       },
       "report_default": {
        "hidden": false
       }
      }
     }
    }
   },
   "source": [
    "Now pick the EUR, GBP and USD discount curves, convert dates into times and discounts into zero rates: "
   ]
  },
  {
   "cell_type": "code",
   "execution_count": null,
   "metadata": {
    "extensions": {
     "jupyter_dashboards": {
      "version": 1,
      "views": {
       "grid_default": {
        "col": 0,
        "height": 20,
        "hidden": false,
        "row": 18,
        "width": null
       },
       "report_default": {
        "hidden": false
       }
      }
     }
    }
   },
   "outputs": [],
   "source": [
    "asof = ore.getInputs().asof()\n",
    "\n",
    "date = report.dataAsDate(1)\n",
    "eurDiscount = report.dataAsReal(2)\n",
    "gbpDiscount = report.dataAsReal(3)\n",
    "usdDiscount = report.dataAsReal(4)\n",
    "time = [0] * report.rows()\n",
    "eurZero = [0] * report.rows() \n",
    "gbpZero = [0] * report.rows() \n",
    "usdZero = [0] * report.rows() \n",
    "\n",
    "dc = Actual365Fixed()\n",
    "#print (\"#Index\", \"Date\", \"Discount\")\n",
    "for i in range(0, report.rows()):\n",
    "    time[i] = dc.yearFraction(asof, date[i])\n",
    "    eurZero[i] = -math.log(eurDiscount[i]) / time[i]\n",
    "    gbpZero[i] = -math.log(gbpDiscount[i]) / time[i]\n",
    "    usdZero[i] = -math.log(usdDiscount[i]) / time[i]\n",
    "    #print(\"%d %s %.4f %.8f %.8f\" % (i, date[i].ISO(), time[i], eurZero[i], gbpZero[i]))"
   ]
  },
  {
   "cell_type": "markdown",
   "metadata": {
    "extensions": {
     "jupyter_dashboards": {
      "version": 1,
      "views": {
       "grid_default": {
        "col": 0,
        "height": 4,
        "hidden": true,
        "row": 31,
        "width": 4
       },
       "report_default": {
        "hidden": false
       }
      }
     }
    }
   },
   "source": [
    "... and plot the curves:"
   ]
  },
  {
   "cell_type": "code",
   "execution_count": null,
   "metadata": {
    "extensions": {
     "jupyter_dashboards": {
      "version": 1,
      "views": {
       "grid_default": {
        "col": 0,
        "height": 20,
        "hidden": false,
        "row": 18,
        "width": null
       },
       "report_default": {
        "hidden": false
       }
      }
     }
    },
    "tags": []
   },
   "outputs": [],
   "source": [
    "import matplotlib.pyplot as plt\n",
    "from matplotlib.gridspec import GridSpec\n",
    "\n",
    "fig = plt.figure(figsize=(14, 5))\n",
    "gs = GridSpec(nrows=1, ncols=2)\n",
    "ax0 = fig.add_subplot(gs[0, 0])\n",
    "ax1 = fig.add_subplot(gs[0, 1])\n",
    "\n",
    "ax0.plot(time, eurDiscount, label='EUR')\n",
    "ax0.plot(time, gbpDiscount, label='GBP')\n",
    "ax0.plot(time, usdDiscount, label='USD')\n",
    "ax0.set(xlabel='Time/Years', ylabel='Discount Factor')\n",
    "ax0.set_title('Discount Curves')\n",
    "ax0.legend()\n",
    "ax1.plot(time, eurZero, label='EUR')\n",
    "ax1.plot(time, gbpZero, label='GBP')\n",
    "ax1.plot(time, usdZero, label='USD')\n",
    "ax1.set(xlabel='Time/Years', ylabel='Rate')\n",
    "ax1.set_title('Zero Curves')\n",
    "ax1.legend()\n",
    "\n",
    "plt.show()"
   ]
  },
  {
   "cell_type": "markdown",
   "metadata": {
    "extensions": {
     "jupyter_dashboards": {
      "version": 1,
      "views": {
       "grid_default": {
        "col": 0,
        "height": 4,
        "hidden": true,
        "row": 31,
        "width": 4
       },
       "report_default": {
        "hidden": false
       }
      }
     }
    }
   },
   "source": [
    "EUR and GBP zero curves are flat, as expected."
   ]
  },
  {
   "cell_type": "markdown",
   "metadata": {
    "extensions": {
     "jupyter_dashboards": {
      "version": 1,
      "views": {
       "grid_default": {
        "col": 0,
        "height": 4,
        "hidden": true,
        "row": 31,
        "width": 4
       },
       "report_default": {
        "hidden": false
       }
      }
     }
    }
   },
   "source": [
    "## Sensitivity Analysis"
   ]
  },
  {
   "cell_type": "markdown",
   "metadata": {
    "extensions": {
     "jupyter_dashboards": {
      "version": 1,
      "views": {
       "grid_default": {
        "col": 0,
        "height": 4,
        "hidden": true,
        "row": 31,
        "width": 4
       },
       "report_default": {
        "hidden": false
       }
      }
     }
    }
   },
   "source": [
    "We could now modify the inputs via ore.xml and run again to generate a sensitivity report.\n",
    "\n",
    "But we can also do it here. It requires two additional configurations:"
   ]
  },
  {
   "cell_type": "code",
   "execution_count": null,
   "metadata": {},
   "outputs": [],
   "source": [
    "sensiXML = \"\"\"\n",
    "<SensitivityAnalysis>\n",
    "  <DiscountCurves>\n",
    "    <DiscountCurve ccy='EUR'>\n",
    "      <ShiftType>Absolute</ShiftType>\n",
    "      <ShiftSize>0.0001</ShiftSize>\n",
    "      <ShiftTenors>2W,1M,3M,6M,9M,1Y,2Y,3Y,4Y,5Y,7Y,10Y,15Y,20Y,25Y,30Y</ShiftTenors>\n",
    "      <ParConversion>\n",
    "        <Instruments>OIS,OIS,OIS,OIS,OIS,OIS,OIS,OIS,OIS,OIS,OIS,OIS,OIS,OIS,OIS,OIS</Instruments>\n",
    "        <SingleCurve>true</SingleCurve>\n",
    "        <Conventions>\n",
    "            <Convention id='DEP'>EUR-EURIBOR-CONVENTIONS</Convention>\n",
    "            <Convention id='IRS'>EUR-6M-SWAP-CONVENTIONS</Convention>\n",
    "            <Convention id='OIS'>EUR-OIS-CONVENTIONS</Convention>\n",
    "        </Conventions>\n",
    "      </ParConversion>\n",
    "    </DiscountCurve>\n",
    "  </DiscountCurves>\n",
    "  <IndexCurves>\n",
    "    <IndexCurve index='EUR-EONIA'>\n",
    "      <ShiftType>Absolute</ShiftType>\n",
    "      <ShiftSize>0.0001</ShiftSize>\n",
    "      <ShiftTenors>2W,1M,3M,6M,9M,1Y,2Y,3Y,4Y,5Y,7Y,10Y,15Y,20Y,25Y,30Y</ShiftTenors>\n",
    "      <ParConversion>\n",
    "        <Instruments>OIS,OIS,OIS,OIS,OIS,OIS,OIS,OIS,OIS,OIS,OIS,OIS,OIS,OIS,OIS,OIS</Instruments>\n",
    "        <SingleCurve>true</SingleCurve>\n",
    "        <Conventions>\n",
    "            <Convention id='DEP'>EUR-EURIBOR-CONVENTIONS</Convention>\n",
    "            <Convention id='IRS'>EUR-6M-SWAP-CONVENTIONS</Convention>\n",
    "            <Convention id='OIS'>EUR-OIS-CONVENTIONS</Convention>\n",
    "        </Conventions>\n",
    "      </ParConversion>\n",
    "    </IndexCurve>\n",
    "    <IndexCurve index='EUR-EURIBOR-6M'>\n",
    "      <ShiftType>Absolute</ShiftType>\n",
    "      <ShiftSize>0.0001</ShiftSize>\n",
    "      <ShiftTenors>2W,1M,3M,6M,9M,1Y,2Y,3Y,4Y,5Y,7Y,10Y,15Y,20Y,25Y,30Y</ShiftTenors>\n",
    "      <ParConversion>\n",
    "        <Instruments>DEP,DEP,DEP,DEP,DEP,IRS,IRS,IRS,IRS,IRS,IRS,IRS,IRS,IRS,IRS,IRS</Instruments>\n",
    "        <SingleCurve>false</SingleCurve>\n",
    "        <Conventions>\n",
    "            <Convention id='DEP'>EUR-EURIBOR-CONVENTIONS</Convention>\n",
    "            <Convention id='IRS'>EUR-6M-SWAP-CONVENTIONS</Convention>\n",
    "            <Convention id='OIS'>EUR-OIS-CONVENTIONS</Convention>\n",
    "        </Conventions>\n",
    "      </ParConversion>\n",
    "    </IndexCurve>\n",
    "  </IndexCurves>\n",
    "</SensitivityAnalysis>\n",
    "\"\"\""
   ]
  },
  {
   "cell_type": "code",
   "execution_count": null,
   "metadata": {},
   "outputs": [],
   "source": [
    "simulationXML = \"\"\"\n",
    "<Simulation>\n",
    "  <Market>\n",
    "    <BaseCurrency>EUR</BaseCurrency>\n",
    "    <Currencies>\n",
    "      <Currency>EUR</Currency>\n",
    "    </Currencies>\n",
    "    <YieldCurves>\n",
    "      <Configuration>\n",
    "        <Tenors>2W,1M,3M,6M,9M,1Y,2Y,3Y,4Y,5Y,7Y,10Y,15Y,20Y,25Y,30Y</Tenors>\n",
    "        <Interpolation>LogLinear</Interpolation>\n",
    "        <Extrapolation>Y</Extrapolation>\n",
    "      </Configuration>\n",
    "    </YieldCurves>\n",
    "    <Indices>\n",
    "      <Index>EUR-EONIA</Index>\n",
    "      <Index>EUR-EURIBOR-6M</Index>\n",
    "    </Indices>\n",
    "  </Market>\n",
    "</Simulation>\n",
    "\"\"\""
   ]
  },
  {
   "cell_type": "code",
   "execution_count": null,
   "metadata": {},
   "outputs": [],
   "source": [
    "inputs = ore.getInputs()\n",
    "inputs.setSensiScenarioData(sensiXML);\n",
    "inputs.setSensiSimMarketParams(simulationXML)\n",
    "inputs.insertAnalytic(\"SENSITIVITY\")"
   ]
  },
  {
   "cell_type": "markdown",
   "metadata": {
    "extensions": {
     "jupyter_dashboards": {
      "version": 1,
      "views": {
       "grid_default": {
        "col": 0,
        "height": 4,
        "hidden": true,
        "row": 31,
        "width": 4
       },
       "report_default": {
        "hidden": false
       }
      }
     }
    }
   },
   "source": [
    "Run again..."
   ]
  },
  {
   "cell_type": "code",
   "execution_count": null,
   "metadata": {
    "extensions": {
     "jupyter_dashboards": {
      "version": 1,
      "views": {
       "grid_default": {
        "hidden": true
       },
       "report_default": {
        "hidden": true
       }
      }
     }
    },
    "scrolled": true
   },
   "outputs": [],
   "source": [
    "ore.run()\n",
    "\n",
    "errors = ore.getErrors()\n",
    "print (\"Completed with\", len(errors), \"errors/warnings\")\n",
    "if len(errors) > 0:\n",
    "    for e in errors:\n",
    "        print(e)\n",
    "print (\"Run time: %.4f sec\" % ore.getRunTime())        "
   ]
  },
  {
   "cell_type": "markdown",
   "metadata": {
    "extensions": {
     "jupyter_dashboards": {
      "version": 1,
      "views": {
       "grid_default": {
        "col": 0,
        "height": 4,
        "hidden": true,
        "row": 31,
        "width": 4
       },
       "report_default": {
        "hidden": false
       }
      }
     }
    }
   },
   "source": [
    "Check result reports again..."
   ]
  },
  {
   "cell_type": "code",
   "execution_count": null,
   "metadata": {},
   "outputs": [],
   "source": [
    "utilities.writeList(ore.getReportNames())"
   ]
  },
  {
   "cell_type": "markdown",
   "metadata": {
    "extensions": {
     "jupyter_dashboards": {
      "version": 1,
      "views": {
       "grid_default": {
        "col": 0,
        "height": 4,
        "hidden": true,
        "row": 31,
        "width": 4
       },
       "report_default": {
        "hidden": false
       }
      }
     }
    }
   },
   "source": [
    "We have a sensitivity report now"
   ]
  },
  {
   "cell_type": "code",
   "execution_count": null,
   "metadata": {
    "extensions": {
     "jupyter_dashboards": {
      "version": 1,
      "views": {
       "grid_default": {
        "hidden": true
       },
       "report_default": {
        "hidden": true
       }
      }
     }
    }
   },
   "outputs": [],
   "source": [
    "reportName = \"sensitivity\"\n",
    "rawReport = ore.getReport(reportName)\n",
    "utilities.checkReportStructure(reportName, rawReport)"
   ]
  },
  {
   "cell_type": "code",
   "execution_count": null,
   "metadata": {
    "scrolled": true
   },
   "outputs": [],
   "source": [
    "isPar = rawReport.dataAsString(1)\n",
    "factor = rawReport.dataAsString(2)\n",
    "shiftSize = rawReport.dataAsReal(3)\n",
    "currency = rawReport.dataAsString(6)\n",
    "npv = rawReport.dataAsReal(7)\n",
    "delta = rawReport.dataAsReal(8) \n",
    "gamma = rawReport.dataAsReal(9)\n",
    "print (\"%-10s %-35s %10s %10s %10s %10s %10s\" % (\"IsPar\", \"Factor\", \"ShiftSize\", \"Currency\", \"NPV\", \"Delta\", \"Gamma\"))\n",
    "rawDelta = {}\n",
    "for i in range(0, rawReport.rows()):\n",
    "    print(\"%-10s %-35s %10.6f %10s %10.2f %10.2f %10.2f\" % (isPar[i], factor[i], shiftSize[i], currency[i], npv[i], delta[i], gamma[i]))\n",
    "    if (\"IndexCurve\" in factor[i]):\n",
    "        rawDelta[factor[i]] = delta[i]\n"
   ]
  },
  {
   "cell_type": "markdown",
   "metadata": {
    "extensions": {
     "jupyter_dashboards": {
      "version": 1,
      "views": {
       "grid_default": {
        "col": 0,
        "height": 4,
        "hidden": true,
        "row": 31,
        "width": 4
       },
       "report_default": {
        "hidden": false
       }
      }
     }
    }
   },
   "source": [
    "We want par sensitivities as well:"
   ]
  },
  {
   "cell_type": "code",
   "execution_count": null,
   "metadata": {},
   "outputs": [],
   "source": [
    "inputs.setParSensi(True)"
   ]
  },
  {
   "cell_type": "code",
   "execution_count": null,
   "metadata": {},
   "outputs": [],
   "source": [
    "ore.run()\n",
    "\n",
    "errors = ore.getErrors()\n",
    "print (\"Completed with\", len(errors), \"errors/warnings\")\n",
    "if len(errors) > 0:\n",
    "    for e in errors:\n",
    "        print(e)\n",
    "\n",
    "print (\"Run time: %.4f sec\" % ore.getRunTime())        "
   ]
  },
  {
   "cell_type": "code",
   "execution_count": null,
   "metadata": {},
   "outputs": [],
   "source": [
    "utilities.writeList(ore.getReportNames())"
   ]
  },
  {
   "cell_type": "markdown",
   "metadata": {
    "extensions": {
     "jupyter_dashboards": {
      "version": 1,
      "views": {
       "grid_default": {
        "col": 0,
        "height": 4,
        "hidden": true,
        "row": 31,
        "width": 4
       },
       "report_default": {
        "hidden": false
       }
      }
     }
    }
   },
   "source": [
    "We have a par sensitivity report now"
   ]
  },
  {
   "cell_type": "code",
   "execution_count": null,
   "metadata": {
    "tags": []
   },
   "outputs": [],
   "source": [
    "parReportName = \"par_sensitivity\"\n",
    "print (\"Load report\", parReportName)\n",
    "parReport = ore.getReport(parReportName)\n",
    "    \n",
    "isPar = parReport.dataAsString(1)\n",
    "factor = parReport.dataAsString(2)\n",
    "shiftSize = parReport.dataAsReal(3)\n",
    "currency = parReport.dataAsString(6)\n",
    "npv = parReport.dataAsReal(7)\n",
    "delta = parReport.dataAsReal(8) \n",
    "\n",
    "print(\"\\n\")\n",
    "print (\"%-10s %-35s %10s %10s %10s %10s\" % (\"IsPar\", \"Factor\", \"ShiftSize\", \"Currency\", \"NPV\", \"ParDelta\"))\n",
    "parDelta = {}\n",
    "for i in range(0, parReport.rows()):\n",
    "    print(\"%-10s %-35s %10.6f %10s %10.2f %10.2f\" % (isPar[i], factor[i], shiftSize[i], currency[i], npv[i], delta[i]))\n",
    "    if (\"IndexCurve\" in factor[i]):\n",
    "        parDelta[factor[i]] = delta[i]\n"
   ]
  },
  {
   "cell_type": "markdown",
   "metadata": {
    "extensions": {
     "jupyter_dashboards": {
      "version": 1,
      "views": {
       "grid_default": {
        "col": 0,
        "height": 4,
        "hidden": true,
        "row": 31,
        "width": 4
       },
       "report_default": {
        "hidden": false
       }
      }
     }
    }
   },
   "source": [
    "Compare raw and par index curve sensitivities:"
   ]
  },
  {
   "cell_type": "code",
   "execution_count": null,
   "metadata": {
    "extensions": {
     "jupyter_dashboards": {
      "version": 1,
      "views": {
       "grid_default": {
        "col": 0,
        "height": 20,
        "hidden": false,
        "row": 18,
        "width": null
       },
       "report_default": {
        "hidden": false
       }
      }
     }
    }
   },
   "outputs": [],
   "source": [
    "print(\"%-35s %10s %10s\" % (\"Factor\", \"RawDelta\", \"ParDelta\"))\n",
    "for key in parDelta:\n",
    "    if (key not in rawDelta):\n",
    "        rawDelta[key] = 0\n",
    "    print(\"%-35s %10.2f %10.2f\" % (key, rawDelta[key], parDelta[key]))"
   ]
  },
  {
   "cell_type": "markdown",
   "metadata": {
    "extensions": {
     "jupyter_dashboards": {
      "version": 1,
      "views": {
       "grid_default": {
        "col": 0,
        "height": 4,
        "hidden": true,
        "row": 31,
        "width": 4
       },
       "report_default": {
        "hidden": false
       }
      }
     }
    }
   },
   "source": [
    "## Exposure Simulation"
   ]
  },
  {
   "cell_type": "markdown",
   "metadata": {
    "extensions": {
     "jupyter_dashboards": {
      "version": 1,
      "views": {
       "grid_default": {
        "col": 0,
        "height": 4,
        "hidden": true,
        "row": 31,
        "width": 4
       },
       "report_default": {
        "hidden": false
       }
      }
     }
    }
   },
   "source": [
    "To run an exposure simulation, we need to add further configurations:\n",
    "- simulation market configuration\n",
    "- scenario generator configuration\n",
    "- cross asset model configuration\n",
    "- netting set manager"
   ]
  },
  {
   "cell_type": "code",
   "execution_count": null,
   "metadata": {},
   "outputs": [],
   "source": [
    "mcSimMarketXML =\"\"\"\n",
    "<Simulation>\n",
    "<Market>\n",
    "  <BaseCurrency>EUR</BaseCurrency>\n",
    "    <Currencies>\n",
    "      <Currency>EUR</Currency>\n",
    "    </Currencies>\n",
    "  <YieldCurves>\n",
    "    <Configuration>\n",
    "      <Tenors>3M,6M,1Y,2Y,3Y,4Y,5Y,7Y,10Y,12Y,15Y,20Y,25Y,30Y</Tenors>\n",
    "      <Interpolation>LogLinear</Interpolation>\n",
    "      <Extrapolation>Y</Extrapolation>\n",
    "    </Configuration>\n",
    "  </YieldCurves>\n",
    "  <Indices>\n",
    "    <Index>EUR-EURIBOR-6M</Index>\n",
    "    <Index>EUR-EONIA</Index>\n",
    "  </Indices>\n",
    "  <SwapIndices>\n",
    "    <SwapIndex>\n",
    "      <Name>EUR-CMS-1Y</Name>\n",
    "      <DiscountingIndex>EUR-EONIA</DiscountingIndex>\n",
    "    </SwapIndex>\n",
    "    <SwapIndex>\n",
    "      <Name>EUR-CMS-30Y</Name>\n",
    "      <DiscountingIndex>EUR-EONIA</DiscountingIndex>\n",
    "    </SwapIndex>\n",
    "  </SwapIndices>\n",
    "  <DefaultCurves>\n",
    "    <Names/>\n",
    "    <Tenors>6M,1Y,2Y</Tenors>\n",
    "  </DefaultCurves>\n",
    "  <AggregationScenarioDataCurrencies>\n",
    "    <Currency>EUR</Currency>\n",
    "  </AggregationScenarioDataCurrencies>\n",
    "  <AggregationScenarioDataIndices>\n",
    "    <Index>EUR-EONIA</Index>\n",
    "  </AggregationScenarioDataIndices>\n",
    "</Market>\n",
    "</Simulation>\n",
    "\"\"\""
   ]
  },
  {
   "cell_type": "code",
   "execution_count": null,
   "metadata": {},
   "outputs": [],
   "source": [
    "scenarioGeneratorXML =\"\"\"\n",
    "<Simulation>\n",
    "  <Parameters>\n",
    "    <Discretization>Exact</Discretization>\n",
    "    <Grid>81,3M</Grid>\n",
    "    <Calendar>EUR</Calendar>\n",
    "    <Sequence>SobolBrownianBridge</Sequence>\n",
    "    <Scenario>Simple</Scenario>\n",
    "    <Seed>42</Seed>\n",
    "    <Samples>1000</Samples>\n",
    "  </Parameters>\n",
    "</Simulation>\n",
    "\"\"\""
   ]
  },
  {
   "cell_type": "code",
   "execution_count": null,
   "metadata": {},
   "outputs": [],
   "source": [
    "crossAssetModelXML = \"\"\"\n",
    "<Simulation>\n",
    "<CrossAssetModel>\n",
    "  <DomesticCcy>EUR</DomesticCcy>\n",
    "  <Currencies>\n",
    "    <Currency>EUR</Currency>\n",
    "  </Currencies>\n",
    "  <BootstrapTolerance>0.0001</BootstrapTolerance>\n",
    "  <InterestRateModels>\n",
    "    <LGM ccy='default'>\n",
    "      <CalibrationType>Bootstrap</CalibrationType>\n",
    "      <Volatility>\n",
    "        <Calibrate>Y</Calibrate>\n",
    "        <VolatilityType>Hagan</VolatilityType>\n",
    "        <ParamType>Piecewise</ParamType>\n",
    "        <TimeGrid>1.0,2.0,3.0,4.0,5.0,7.0,10.0</TimeGrid>\n",
    "        <InitialValue>0.01, 0.01, 0.01, 0.01, 0.01, 0.01, 0.01, 0.01</InitialValue>\n",
    "      </Volatility>\n",
    "      <Reversion>\n",
    "        <Calibrate>N</Calibrate>\n",
    "        <ReversionType>HullWhite</ReversionType>\n",
    "        <ParamType>Constant</ParamType>\n",
    "        <TimeGrid/>\n",
    "        <InitialValue>0.03</InitialValue>\n",
    "      </Reversion>\n",
    "      <CalibrationSwaptions>\n",
    "        <Expiries> 1Y,  2Y,  4Y,  6Y,  8Y, 10Y, 12Y, 14Y, 16Y, 18Y, 19Y</Expiries>\n",
    "        <Terms>   19Y, 18Y, 16Y, 14Y, 12Y, 10Y,  8Y,  6Y,  4Y,  2Y,  1Y</Terms>\n",
    "        <Strikes/>\n",
    "      </CalibrationSwaptions>\n",
    "      <ParameterTransformation>\n",
    "        <ShiftHorizon>0.0</ShiftHorizon>\n",
    "        <Scaling>1.0</Scaling>\n",
    "      </ParameterTransformation>\n",
    "   </LGM>\n",
    "  </InterestRateModels>\n",
    "  <ForeignExchangeModels>\n",
    "    <CrossCcyLGM foreignCcy='default'>\n",
    "      <DomesticCcy>EUR</DomesticCcy>\n",
    "      <CalibrationType>Bootstrap</CalibrationType>\n",
    "      <Sigma>\n",
    "        <Calibrate>Y</Calibrate>\n",
    "        <ParamType>Piecewise</ParamType>\n",
    "        <TimeGrid>1.0, 2.0, 3.0, 4.0, 5.0, 7.0, 10.0</TimeGrid>\n",
    "        <InitialValue>0.1, 0.1, 0.1, 0.1, 0.1, 0.1, 0.1, 0.1</InitialValue>\n",
    "      </Sigma>\n",
    "      <CalibrationOptions>\n",
    "        <Expiries>1Y, 2Y, 3Y, 4Y, 5Y, 10Y</Expiries>\n",
    "        <Strikes/>\n",
    "      </CalibrationOptions>\n",
    "    </CrossCcyLGM>\n",
    "  </ForeignExchangeModels>\n",
    "  <InstantaneousCorrelations>\n",
    "    <Correlation factor1='IR:EUR' factor2='IR:GBP'>0.3</Correlation>\n",
    "    <Correlation factor1='IR:EUR' factor2='FX:GBPEUR'>0</Correlation>\n",
    "    <Correlation factor1='IR:GBP' factor2='FX:GBPEUR'>0</Correlation>\n",
    "  </InstantaneousCorrelations>\n",
    "</CrossAssetModel>\n",
    "</Simulation>\n",
    "\"\"\""
   ]
  },
  {
   "cell_type": "code",
   "execution_count": null,
   "metadata": {},
   "outputs": [],
   "source": [
    "nettingSetManagerXML = \"\"\"\n",
    "<NettingSetDefinitions>\n",
    "  <NettingSet>\n",
    "    <NettingSetId>CPTY_A</NettingSetId>\n",
    "    <Counterparty>CPTY_A</Counterparty>\n",
    "    <ActiveCSAFlag>false</ActiveCSAFlag>\n",
    "    <CSADetails>\n",
    "      <Bilateral>Bilateral</Bilateral>\n",
    "      <CSACurrency>EUR</CSACurrency>\n",
    "      <Index>EUR-EONIA</Index>\n",
    "      <ThresholdPay>0</ThresholdPay>\n",
    "      <ThresholdReceive>0</ThresholdReceive>\n",
    "      <MinimumTransferAmountPay>0</MinimumTransferAmountPay>\n",
    "      <MinimumTransferAmountReceive>0</MinimumTransferAmountReceive>\n",
    "      <IndependentAmount>\n",
    "        <IndependentAmountHeld>0</IndependentAmountHeld>\n",
    "        <IndependentAmountType>FIXED</IndependentAmountType>\n",
    "      </IndependentAmount>\n",
    "      <MarginingFrequency>\n",
    "        <CallFrequency>1D</CallFrequency>\n",
    "        <PostFrequency>1D</PostFrequency>\n",
    "      </MarginingFrequency>\n",
    "      <MarginPeriodOfRisk>2W</MarginPeriodOfRisk>\n",
    "      <CollateralCompoundingSpreadReceive>0.00</CollateralCompoundingSpreadReceive>\n",
    "      <CollateralCompoundingSpreadPay>0.00</CollateralCompoundingSpreadPay>\n",
    "      <EligibleCollaterals>\n",
    "        <Currencies>\n",
    "          <Currency>EUR</Currency>\n",
    "        </Currencies>\n",
    "      </EligibleCollaterals>\n",
    "    </CSADetails>\n",
    "  </NettingSet>\n",
    "</NettingSetDefinitions>\n",
    "\"\"\""
   ]
  },
  {
   "cell_type": "code",
   "execution_count": null,
   "metadata": {},
   "outputs": [],
   "source": [
    "simulationPricingEngineXML = \"\"\"\n",
    "<PricingEngines>\n",
    "<Product type='Swap'>\n",
    "  <Model>DiscountedCashflows</Model>\n",
    "  <ModelParameters/>\n",
    "  <Engine>DiscountingSwapEngineOptimised</Engine>\n",
    "  <EngineParameters/>\n",
    "</Product>\n",
    "</PricingEngines>\n",
    "\"\"\"\n",
    "amcPricingEngineXML = \"<PricingEngines></PricingEngines>\""
   ]
  },
  {
   "cell_type": "code",
   "execution_count": null,
   "metadata": {},
   "outputs": [],
   "source": [
    "inputs.setExposureBaseCurrency(\"EUR\")\n",
    "inputs.setExposureSimMarketParams(mcSimMarketXML)\n",
    "inputs.setScenarioGeneratorData(scenarioGeneratorXML)\n",
    "inputs.setCrossAssetModelData(crossAssetModelXML)\n",
    "inputs.setSimulationPricingEngine(simulationPricingEngineXML)\n",
    "inputs.setAmcPricingEngine(amcPricingEngineXML)\n",
    "inputs.setNettingSetManager(nettingSetManagerXML)\n",
    "inputs.setWriteCube(True)\n",
    "inputs.setXvaBaseCurrency(\"EUR\")\n",
    "inputs.setExposureProfiles(True)\n",
    "inputs.setExposureProfilesByTrade(True)\n",
    "inputs.setCvaAnalytic(True)\n",
    "inputs.setAmc(False)\n",
    "\n",
    "inputs.insertAnalytic(\"EXPOSURE\")\n",
    "inputs.insertAnalytic(\"XVA\")"
   ]
  },
  {
   "cell_type": "code",
   "execution_count": null,
   "metadata": {},
   "outputs": [],
   "source": [
    "ore.run()\n",
    "\n",
    "errors = ore.getErrors()\n",
    "print (\"Completed with\", len(errors), \"errors/warnings\")\n",
    "if len(errors) > 0:\n",
    "    for e in errors:\n",
    "        print(e)\n",
    "        \n",
    "print (\"Run time: %.4f sec\" % ore.getRunTime())       "
   ]
  },
  {
   "cell_type": "code",
   "execution_count": null,
   "metadata": {},
   "outputs": [],
   "source": [
    "utilities.writeList(ore.getReportNames())"
   ]
  },
  {
   "cell_type": "markdown",
   "metadata": {
    "extensions": {
     "jupyter_dashboards": {
      "version": 1,
      "views": {
       "grid_default": {
        "col": 0,
        "height": 4,
        "hidden": true,
        "row": 31,
        "width": 4
       },
       "report_default": {
        "hidden": false
       }
      }
     }
    }
   },
   "source": [
    "We should have several additional reports now:\n",
    "- xva\n",
    "- exposure_trade_Swap\n",
    "- exposure-nettingset_CPTY_A\n",
    "- cva_sensitivity_nettingset_CPTY_A\n",
    "- colva_nettingset_CPTY_A\n",
    "\n",
    "Let us check the trade or nettingset exposure report:"
   ]
  },
  {
   "cell_type": "code",
   "execution_count": null,
   "metadata": {},
   "outputs": [],
   "source": [
    "reportName = \"exposure_trade_Swap\"\n",
    "report = ore.getReport(reportName)\n",
    "utilities.checkReportStructure(reportName, rawReport)"
   ]
  },
  {
   "cell_type": "code",
   "execution_count": null,
   "metadata": {},
   "outputs": [],
   "source": [
    "time = report.dataAsReal(2)\n",
    "epe = report.dataAsReal(3);\n",
    "ene = report.dataAsReal(4);\n",
    "pfe = report.dataAsReal(7);\n",
    "    \n",
    "import matplotlib.pyplot as plt\n",
    "fig = plt.figure(figsize=(10, 5))\n",
    "gs = GridSpec(nrows=1, ncols=1)\n",
    "ax = fig.add_subplot(gs[0, 0])\n",
    "\n",
    "ax.plot(time, epe, label='Swap EPE')\n",
    "ax.plot(time, ene, label='Swap ENE')\n",
    "ax.plot(time, pfe, label='Swap PFE')\n",
    "ax.set(xlabel='Time/Years')\n",
    "ax.set(ylabel='Exposure')\n",
    "ax.set_title('Exposure')\n",
    "ax.legend()\n",
    "\n",
    "plt.show()"
   ]
  },
  {
   "cell_type": "markdown",
   "metadata": {
    "extensions": {
     "jupyter_dashboards": {
      "version": 1,
      "views": {
       "grid_default": {
        "col": 0,
        "height": 4,
        "hidden": true,
        "row": 31,
        "width": 4
       },
       "report_default": {
        "hidden": false
       }
      }
     }
    }
   },
   "source": [
    "Finally, we can pick the trade or netting set CVA result from the xva report:"
   ]
  },
  {
   "cell_type": "code",
   "execution_count": null,
   "metadata": {},
   "outputs": [],
   "source": [
    "reportName = \"xva\"\n",
    "report = ore.getReport(reportName)\n",
    "utilities.checkReportStructure(reportName, rawReport)"
   ]
  },
  {
   "cell_type": "code",
   "execution_count": null,
   "metadata": {},
   "outputs": [],
   "source": [
    "utilities.writeReport(report, [0, 1, 2])"
   ]
  },
  {
   "cell_type": "code",
   "execution_count": null,
   "metadata": {},
   "outputs": [],
   "source": []
  }
 ],
 "metadata": {
  "anaconda-cloud": {},
  "extensions": {
   "jupyter_dashboards": {
    "activeView": "report_default",
    "version": 1,
    "views": {
     "grid_default": {
      "cellMargin": 10,
      "defaultCellHeight": 20,
      "maxColumns": 12,
      "name": "grid",
      "type": "grid"
     },
     "report_default": {
      "name": "report",
      "type": "report"
     }
    }
   }
  },
  "kernelspec": {
   "display_name": "Python 3 (ipykernel)",
   "language": "python",
   "name": "python3"
  },
  "language_info": {
   "codemirror_mode": {
    "name": "ipython",
    "version": 3
   },
   "file_extension": ".py",
   "mimetype": "text/x-python",
   "name": "python",
   "nbconvert_exporter": "python",
   "pygments_lexer": "ipython3",
   "version": "3.11.2"
  },
  "widgets": {
   "state": {
    "706c717787fc48baacd29c35c5b92bba": {
     "views": [
      {
       "cell_index": 13
      }
     ]
    }
   },
   "version": "1.2.0"
  }
 },
 "nbformat": 4,
 "nbformat_minor": 4
}
