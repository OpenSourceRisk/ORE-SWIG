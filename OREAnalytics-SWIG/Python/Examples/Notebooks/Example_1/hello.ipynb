{
 "cells": [
  {
   "cell_type": "markdown",
   "metadata": {
    "extensions": {
     "jupyter_dashboards": {
      "version": 1,
      "views": {
       "grid_default": {
        "col": 0,
        "height": 4,
        "hidden": true,
        "row": 20,
        "width": 4
       },
       "report_default": {
        "hidden": false
       }
      }
     }
    }
   },
   "source": [
    "\n",
    "# Hello QuantLib and QuantExt"
   ]
  },
  {
   "cell_type": "markdown",
   "metadata": {
    "extensions": {
     "jupyter_dashboards": {
      "version": 1,
      "views": {
       "grid_default": {
        "col": 4,
        "height": 4,
        "hidden": true,
        "row": 26,
        "width": 4
       },
       "report_default": {
        "hidden": false
       }
      }
     }
    },
    "tags": []
   },
   "source": [
    "This dashboard demonstrates that the OREAnalytics Python wrapper constains the lower level quant libraries QuantLib and QuantExt.\n",
    "\n",
    "Prerequisite: Python 3.7 or newer"
   ]
  },
  {
   "cell_type": "markdown",
   "metadata": {
    "extensions": {
     "jupyter_dashboards": {
      "version": 1,
      "views": {
       "grid_default": {
        "col": 0,
        "height": 4,
        "hidden": true,
        "row": 12,
        "width": 12
       },
       "report_default": {
        "hidden": false
       }
      }
     }
    }
   },
   "source": [
    "### Load the ORE Python module"
   ]
  },
  {
   "cell_type": "code",
   "execution_count": null,
   "metadata": {
    "extensions": {
     "jupyter_dashboards": {
      "version": 1,
      "views": {
       "grid_default": {
        "hidden": true
       },
       "report_default": {
        "hidden": true
       }
      }
     }
    }
   },
   "outputs": [],
   "source": [
    "from OREAnalytics import *"
   ]
  },
  {
   "cell_type": "markdown",
   "metadata": {
    "extensions": {
     "jupyter_dashboards": {
      "version": 1,
      "views": {
       "grid_default": {
        "col": 0,
        "height": 4,
        "hidden": true,
        "row": 12,
        "width": 12
       },
       "report_default": {
        "hidden": false
       }
      }
     }
    }
   },
   "source": [
    "### Access some QuantLib functionality and set some global data"
   ]
  },
  {
   "cell_type": "code",
   "execution_count": null,
   "metadata": {
    "extensions": {
     "jupyter_dashboards": {
      "version": 1,
      "views": {
       "grid_default": {
        "col": 0,
        "height": 5,
        "hidden": false,
        "row": 2,
        "width": 12
       },
       "report_default": {
        "hidden": true
       }
      }
     }
    }
   },
   "outputs": [],
   "source": [
    "today = Settings.instance().evaluationDate \n",
    "print (\"\\ntoday's date is %s\" % today.ISO())\n",
    "\n",
    "calendar = TARGET()\n",
    "valuationDate = Date(4, October, 2018);\n",
    "Settings.instance().evaluationDate = valuationDate\n",
    "print (\"valuation date is %s\" % valuationDate.ISO())"
   ]
  },
  {
   "cell_type": "markdown",
   "metadata": {
    "extensions": {
     "jupyter_dashboards": {
      "version": 1,
      "views": {
       "grid_default": {
        "col": 0,
        "height": 4,
        "hidden": true,
        "row": 31,
        "width": 12
       },
       "report_default": {
        "hidden": false
       }
      }
     }
    }
   },
   "source": [
    "### Define the (QuantExt) Commodity Forward instrument and related market data"
   ]
  },
  {
   "cell_type": "code",
   "execution_count": null,
   "metadata": {
    "extensions": {
     "jupyter_dashboards": {
      "version": 1,
      "views": {
       "grid_default": {
        "col": 0,
        "height": 7,
        "hidden": false,
        "row": 9,
        "width": 12
       },
       "report_default": {
        "hidden": true
       }
      }
     }
    }
   },
   "outputs": [],
   "source": [
    "# Instrument \n",
    "name = \"Natural Gas\";\n",
    "currency = GBPCurrency();\n",
    "strikePrice = 100.0;\n",
    "quantity = 200.0;\n",
    "position = Position.Long;\n",
    "maturityDate = Date(4, October, 2022);\n",
    "\n",
    "# Market\n",
    "dates = [ Date(20,12,2018),\n",
    "          Date(20,12,2022) ]\n",
    "quotes = [ QuoteHandle(SimpleQuote(102.0)),\n",
    "           QuoteHandle(SimpleQuote(102.0)) ]         \n",
    "dayCounter = Actual365Fixed()\n",
    "\n",
    "# Price curve\n",
    "priceCurve = LinearInterpolatedPriceCurve(valuationDate, dates, quotes, dayCounter, currency);\n",
    "priceCurve.enableExtrapolation();\n",
    "priceTermStructure = RelinkablePriceTermStructureHandle();\n",
    "priceTermStructure.linkTo(priceCurve)\n",
    "\n",
    "# Discount curve\n",
    "flatForward = FlatForward(valuationDate, 0.03, dayCounter);\n",
    "discountTermStructure = RelinkableYieldTermStructureHandle()\n",
    "discountTermStructure.linkTo(flatForward)"
   ]
  },
  {
   "cell_type": "code",
   "execution_count": null,
   "metadata": {
    "extensions": {
     "jupyter_dashboards": {
      "version": 1,
      "views": {
       "grid_default": {
        "col": 0,
        "height": 4,
        "hidden": true,
        "row": 12,
        "width": 12
       },
       "report_default": {
        "hidden": false
       }
      }
     }
    }
   },
   "outputs": [],
   "source": [
    "### Set the QuantExt instrument and engine and call the NPV function"
   ]
  },
  {
   "cell_type": "code",
   "execution_count": null,
   "metadata": {
    "extensions": {
     "jupyter_dashboards": {
      "version": 1,
      "views": {
       "grid_default": {
        "hidden": true
       },
       "report_default": {
        "hidden": true
       }
      }
     }
    }
   },
   "outputs": [],
   "source": [
    "engine = DiscountingCommodityForwardEngine(discountTermStructure)\n",
    "\n",
    "index = CommoditySpotIndex(name, calendar, priceTermStructure)\n",
    "instrument = CommodityForward(index, currency, position, quantity, maturityDate, strikePrice);\n",
    "\n",
    "instrument.setPricingEngine(engine)\n",
    "\n",
    "print(\"\\nCommodity Forward on '%s' NPV=%.2f %s\\n\" % (name, instrument.NPV(), instrument.currency().code()))"
   ]
  },
  {
   "cell_type": "code",
   "execution_count": null,
   "metadata": {},
   "outputs": [],
   "source": []
  }
 ],
 "metadata": {
  "anaconda-cloud": {},
  "extensions": {
   "jupyter_dashboards": {
    "activeView": "report_default",
    "version": 1,
    "views": {
     "grid_default": {
      "cellMargin": 10,
      "defaultCellHeight": 20,
      "maxColumns": 12,
      "name": "grid",
      "type": "grid"
     },
     "report_default": {
      "name": "report",
      "type": "report"
     }
    }
   }
  },
  "kernelspec": {
   "display_name": "Python 3 (ipykernel)",
   "language": "python",
   "name": "python3"
  },
  "language_info": {
   "codemirror_mode": {
    "name": "ipython",
    "version": 3
   },
   "file_extension": ".py",
   "mimetype": "text/x-python",
   "name": "python",
   "nbconvert_exporter": "python",
   "pygments_lexer": "ipython3",
   "version": "3.10.6"
  },
  "widgets": {
   "state": {
    "706c717787fc48baacd29c35c5b92bba": {
     "views": [
      {
       "cell_index": 13
      }
     ]
    }
   },
   "version": "1.2.0"
  }
 },
 "nbformat": 4,
 "nbformat_minor": 4
}
