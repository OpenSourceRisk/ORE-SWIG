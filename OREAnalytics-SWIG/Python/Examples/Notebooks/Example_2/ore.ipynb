{
 "cells": [
  {
   "cell_type": "markdown",
   "metadata": {
    "extensions": {
     "jupyter_dashboards": {
      "version": 1,
      "views": {
       "grid_default": {
        "col": 0,
        "height": 4,
        "hidden": true,
        "row": 20,
        "width": 4
       },
       "report_default": {
        "hidden": false
       }
      }
     }
    },
    "tags": []
   },
   "source": [
    "\n",
    "# Collateralized Exposure "
   ]
  },
  {
   "cell_type": "markdown",
   "metadata": {
    "extensions": {
     "jupyter_dashboards": {
      "version": 1,
      "views": {
       "grid_default": {
        "col": 4,
        "height": 4,
        "hidden": true,
        "row": 26,
        "width": 4
       },
       "report_default": {
        "hidden": false
       }
      }
     }
    },
    "tags": []
   },
   "source": [
    "This dashboard demonstrates the modelling and imapct of collateral in exposure simulations \n",
    "- Portfolio: EUR, USD and GBP Swaps\n",
    "- Analytics: Exposure simulation and XVA, default and close-out time grid\n",
    "\n",
    "Prerequisites:\n",
    "- This notebook assumes a standard installation of Python 3\n",
    "- ORE Python module installed: run \"pip install open-source-risk-engine\" to get the latest version"
   ]
  },
  {
   "cell_type": "markdown",
   "metadata": {
    "extensions": {
     "jupyter_dashboards": {
      "version": 1,
      "views": {
       "grid_default": {
        "col": 0,
        "height": 2,
        "hidden": false,
        "row": 0,
        "width": 12
       },
       "report_default": {
        "hidden": false
       }
      }
     }
    }
   },
   "source": [
    "## Launch ORE"
   ]
  },
  {
   "cell_type": "markdown",
   "metadata": {
    "extensions": {
     "jupyter_dashboards": {
      "version": 1,
      "views": {
       "grid_default": {
        "col": 0,
        "height": 4,
        "hidden": true,
        "row": 12,
        "width": 12
       },
       "report_default": {
        "hidden": false
       }
      }
     }
    },
    "tags": []
   },
   "source": [
    "Kick off a process in ORE, loading all inputs from Input/ore.xml and the files referenced therein. \n",
    "This is equivalent to using the ORE command line application."
   ]
  },
  {
   "cell_type": "code",
   "execution_count": null,
   "metadata": {
    "extensions": {
     "jupyter_dashboards": {
      "version": 1,
      "views": {
       "grid_default": {
        "hidden": true
       },
       "report_default": {
        "hidden": true
       }
      }
     }
    },
    "scrolled": true
   },
   "outputs": [],
   "source": [
    "from OREAnalytics import *\n",
    "import sys, time, math\n",
    "sys.path.append('..')\n",
    "import utilities\n",
    "\n",
    "params = Parameters()\n",
    "params.fromFile(\"Input/ore.xml\")\n",
    "\n",
    "ore = OREApp(params, False)"
   ]
  },
  {
   "cell_type": "markdown",
   "metadata": {
    "extensions": {
     "jupyter_dashboards": {
      "version": 1,
      "views": {
       "grid_default": {
        "col": 0,
        "height": 4,
        "hidden": true,
        "row": 12,
        "width": 12
       },
       "report_default": {
        "hidden": false
       }
      }
     }
    }
   },
   "source": [
    "This should have loaded the main inputs\n",
    "- portfolio\n",
    "- today's market configuration\n",
    "- conventions\n",
    "- curve configrations\n",
    "- pricing engine configuration"
   ]
  },
  {
   "cell_type": "code",
   "execution_count": null,
   "metadata": {
    "extensions": {
     "jupyter_dashboards": {
      "version": 1,
      "views": {
       "grid_default": {
        "hidden": true
       },
       "report_default": {
        "hidden": true
       }
      }
     }
    },
    "tags": []
   },
   "outputs": [],
   "source": [
    "portfolio = ore.getInputs().portfolio()\n",
    "print(\"Trades:\", portfolio.size())\n",
    "for id in portfolio.ids():\n",
    "    trade = portfolio.get(id)\n",
    "    print(\"Trade:  id=%s type=%s\" % (id, trade.tradeType()))\n",
    "\n",
    "#portfolioXML = portfolio.toXMLString()\n",
    "#print()\n",
    "#print(portfolioXML)"
   ]
  },
  {
   "cell_type": "markdown",
   "metadata": {
    "extensions": {
     "jupyter_dashboards": {
      "version": 1,
      "views": {
       "grid_default": {
        "col": 0,
        "height": 2,
        "hidden": false,
        "row": 7,
        "width": 12
       },
       "report_default": {
        "hidden": false
       }
      }
     }
    }
   },
   "source": [
    "Running the following cell kicks of a **Monte Carlo simulation**: \n",
    "- It evolves today's market into the future along alternative paths\n",
    "- ages the portfolio on each path\n",
    "- revalues the portfolio through its life and across all paths.\n",
    "\n",
    "This requires a \"model\" of the market. The \"Cross Asset Model\" in ORE covers the evolution of the market across six asset/risk classes, it evolves\n",
    "- yield curves\n",
    "- fx rates\n",
    "- inflation rates\n",
    "- equity prices\n",
    "- commodity prices\n",
    "- credit spreads\n",
    "\n",
    "and there are a few choices of the model components in ORE (LGM-1f vs Hull-White-1f/2f for yield curves, Dodgson-Kainth or Jarrow-Yildirim for Inflation, etc.).\n",
    "\n",
    "This process takes about a minute. Run-time generally depends on the number of paths we want to generate, portfolio size/complexity and number of time grid points."
   ]
  },
  {
   "cell_type": "code",
   "execution_count": null,
   "metadata": {
    "extensions": {
     "jupyter_dashboards": {
      "version": 1,
      "views": {
       "grid_default": {
        "hidden": true
       },
       "report_default": {
        "hidden": true
       }
      }
     }
    },
    "scrolled": true
   },
   "outputs": [],
   "source": [
    "ore.run()\n",
    "\n",
    "utilities.checkErrorsAndRunTime(ore)"
   ]
  },
  {
   "cell_type": "markdown",
   "metadata": {
    "extensions": {
     "jupyter_dashboards": {
      "version": 1,
      "views": {
       "grid_default": {
        "col": 0,
        "height": 2,
        "hidden": false,
        "row": 7,
        "width": 12
       },
       "report_default": {
        "hidden": false
       }
      }
     }
    }
   },
   "source": [
    "The simulation process finally produces an NPV \"cube\": valuations for each trade, through time and across all simulation paths (3 * 289 * 1000 in the case above). It is reused a few times below."
   ]
  },
  {
   "cell_type": "markdown",
   "metadata": {
    "extensions": {
     "jupyter_dashboards": {
      "version": 1,
      "views": {
       "grid_default": {
        "col": 0,
        "height": 2,
        "hidden": false,
        "row": 7,
        "width": 12
       },
       "report_default": {
        "hidden": false
       }
      }
     }
    }
   },
   "source": [
    "## Uncollateralized Exposure"
   ]
  },
  {
   "cell_type": "markdown",
   "metadata": {
    "extensions": {
     "jupyter_dashboards": {
      "version": 1,
      "views": {
       "grid_default": {
        "col": 0,
        "height": 2,
        "hidden": false,
        "row": 7,
        "width": 12
       },
       "report_default": {
        "hidden": false
       }
      }
     }
    }
   },
   "source": [
    "The simulation produces an NPV \"cube\": valuations for each trade, through time and across many simulation paths (3 * 289 * 1000 in the case above).\n",
    "\n",
    "\"Exposure\" is then computed by post-processing this information, aggregating across all trades in the netting set, and averaging over discounted positive resp. negative NPVs across the simulation paths:   \n",
    "\n",
    "\\begin{align}\n",
    "\\mathit{EPE}(t) &= \\mathbb{E}^N\\left[ \\frac{[\\mathit{NPV}(t)]^+}{N(t)} \\right] \\\\\n",
    "\\mathit{ENE}(t) &= \\mathbb{E}^N\\left[ \\frac{[-\\mathit{NPV}(t)]^+}{N(t)} \\right]\n",
    "\\end{align}\n",
    "\n",
    "The Expected Positive Exposure (EPE) is our view of exposure, the Expected Negative Exposure (ENE) is the counterparty's perspective. \n",
    "\n",
    "These expectations feed e.g. into the CVA and DVA calculation:\n",
    "\n",
    "\\begin{align}\n",
    "\\mathit{CVA} &= \\sum_{i} \\mathit{PD}_{theirs}(t_{i-1},t_i)\\times\\mathit{LGD}_{theirs}\\times \\mathit{EPE}(t_i) \\\\\n",
    "\\mathit{DVA} &= \\sum_{i} \\mathit{PD}_{ours}(t_{i-1},t_i)\\times\\mathit{LGD}_{ours}\\times \\mathit{ENE}(t_i) \n",
    "\\end{align}\n"
   ]
  },
  {
   "cell_type": "code",
   "execution_count": null,
   "metadata": {
    "extensions": {
     "jupyter_dashboards": {
      "version": 1,
      "views": {
       "grid_default": {
        "col": 0,
        "height": 7,
        "hidden": false,
        "row": 9,
        "width": 12
       },
       "report_default": {
        "hidden": true
       }
      }
     }
    }
   },
   "outputs": [],
   "source": [
    "utilities.writeList(ore.getReportNames())"
   ]
  },
  {
   "cell_type": "markdown",
   "metadata": {
    "extensions": {
     "jupyter_dashboards": {
      "version": 1,
      "views": {
       "grid_default": {
        "col": 0,
        "height": 4,
        "hidden": true,
        "row": 12,
        "width": 12
       },
       "report_default": {
        "hidden": false
       }
      }
     }
    }
   },
   "source": [
    "Plot EPE and ENE, single trades and netting set: "
   ]
  },
  {
   "cell_type": "code",
   "execution_count": null,
   "metadata": {},
   "outputs": [],
   "source": [
    "report_nocol = ore.getReport(\"exposure_nettingset_CPTY_A\")\n",
    "report_1 = ore.getReport(\"exposure_trade_Swap_1\")\n",
    "report_2 = ore.getReport(\"exposure_trade_Swap_2\")\n",
    "report_3 = ore.getReport(\"exposure_trade_Swap_3\")"
   ]
  },
  {
   "cell_type": "code",
   "execution_count": null,
   "metadata": {},
   "outputs": [],
   "source": [
    "time = report_1.dataAsReal(2)\n",
    "epe_1 = report_1.dataAsReal(3);\n",
    "ene_1 = report_1.dataAsReal(4);\n",
    "epe_2 = report_2.dataAsReal(3);\n",
    "ene_2 = report_2.dataAsReal(4);\n",
    "epe_3 = report_3.dataAsReal(3);\n",
    "ene_3 = report_3.dataAsReal(4);\n",
    "epe_nocol = report_nocol.dataAsReal(3);\n",
    "ene_nocol = report_nocol.dataAsReal(4);\n",
    "    \n",
    "import matplotlib.pyplot as plt\n",
    "from matplotlib.gridspec import GridSpec\n",
    "\n",
    "fig = plt.figure(figsize=(15, 5))\n",
    "gs = GridSpec(nrows=1, ncols=2)\n",
    "ax0 = fig.add_subplot(gs[0, 0])\n",
    "ax1 = fig.add_subplot(gs[0, 1])\n",
    "\n",
    "ax0.plot(time, epe_nocol, label='Netting Set')\n",
    "ax0.plot(time, epe_1, label='Swap 1')\n",
    "ax0.plot(time, epe_2, label='Swap 2')\n",
    "ax0.plot(time, epe_3, label='Swap 3')\n",
    "ax0.set(xlabel='Time/Years')\n",
    "ax0.set(ylabel='Exposure')\n",
    "ax0.set_title('EPE')\n",
    "ax0.legend()\n",
    "\n",
    "ax1.plot(time, ene_nocol, label='Netting Set')\n",
    "ax1.plot(time, ene_1, label='Swap 1')\n",
    "ax1.plot(time, ene_2, label='Swap 2')\n",
    "ax1.plot(time, ene_3, label='Swap 3')\n",
    "ax1.set(xlabel='Time/Years')\n",
    "ax1.set(ylabel='Exposure')\n",
    "ax1.set_title('ENE')\n",
    "ax1.legend()\n",
    "\n",
    "plt.show()"
   ]
  },
  {
   "cell_type": "markdown",
   "metadata": {
    "extensions": {
     "jupyter_dashboards": {
      "version": 1,
      "views": {
       "grid_default": {
        "col": 0,
        "height": 4,
        "hidden": true,
        "row": 31,
        "width": 4
       },
       "report_default": {
        "hidden": false
       }
      }
     }
    }
   },
   "source": [
    "# Cash Collateral with Non-Zero Threshold"
   ]
  },
  {
   "cell_type": "markdown",
   "metadata": {
    "extensions": {
     "jupyter_dashboards": {
      "version": 1,
      "views": {
       "grid_default": {
        "col": 0,
        "height": 2,
        "hidden": false,
        "row": 7,
        "width": 12
       },
       "report_default": {
        "hidden": false
       }
      }
     }
    }
   },
   "source": [
    "Collaterealized Exposure\n",
    "\n",
    "\\begin{align}\n",
    "\\mathit{EPE}(t) &= \\mathbb{E}^N\\left[ \\frac{(NPV(t)-C(t))^+}{N(t)} \\right] \\\\\n",
    "\\mathit{ENE}(t) &= \\mathbb{E}^N\\left[ \\frac{(-NPV(t)+C(t))^+}{N(t)} \\right]\n",
    "\\end{align}\n",
    "\n",
    "where $C(t)$ is the collateral balance from our perspective.\n",
    "\n",
    "In an ideal world (continuous posting of collateral, equivalent to the netting set NPV), the exposures vanish. \n",
    "\n",
    "In reality they don't, because of details of the CSA such us thresholds (THs), minimum transfer amounts (MTAs) or delays in the collateral process. Even without TH and MTA, if a counterparty default occurs, it might take us time to realize this. During this period we may still be paying to the counterparty while they do not fulfil their obligations any more. And even if we stop paying immediately, it will take time to close out positions in the market. In that Margin Period of Risk (MPoR), the market eveolves and valuation can deteriorate. This effect needs to be taken into account. \n",
    "\n",
    "In ORE we simulate the netting set collateral balance taking CSA details into account that are modelled in the netting*.xml file. We consider a few basic cases below and illustrate impact on remaining exposures."
   ]
  },
  {
   "cell_type": "markdown",
   "metadata": {
    "extensions": {
     "jupyter_dashboards": {
      "version": 1,
      "views": {
       "grid_default": {
        "col": 0,
        "height": 4,
        "hidden": true,
        "row": 12,
        "width": 12
       },
       "report_default": {
        "hidden": false
       }
      }
     }
    }
   },
   "source": [
    "### First case with non-zero threshold:\n",
    "\n",
    "We have prepared a second configuration for this case\n",
    "- ore_threshold.xml \n",
    "- netting_threshold.xml\n",
    "\n",
    "We re-run ORE now, but we do not need to generate the NPV cube again. We load the cube from our previous run. This allows quickly exploring alternative collateral settings (in netting_threshold.xml) in separate post-processor runs. We use a separate ORE instance here to keep all previous results.\n",
    "\n",
    "Running the following cell should take a few seconds instead of a minute."
   ]
  },
  {
   "cell_type": "code",
   "execution_count": null,
   "metadata": {
    "tags": []
   },
   "outputs": [],
   "source": [
    "xml = \"Input/ore_threshold.xml\"\n",
    "params = Parameters()\n",
    "params.fromFile(xml)\n",
    "ore_threshold = OREApp(params, False)\n",
    "\n",
    "ore_threshold.run()\n",
    "\n",
    "utilities.checkErrorsAndRunTime(ore_threshold)"
   ]
  },
  {
   "cell_type": "code",
   "execution_count": null,
   "metadata": {},
   "outputs": [],
   "source": [
    "report_th = ore_threshold.getReport(\"exposure_nettingset_CPTY_A\")\n",
    "\n",
    "time = report_nocol.dataAsReal(2)\n",
    "epe_th = report_th.dataAsReal(3);\n",
    "ene_th = report_th.dataAsReal(4);\n",
    "    \n",
    "import matplotlib.pyplot as plt\n",
    "from matplotlib.gridspec import GridSpec\n",
    "\n",
    "fig = plt.figure(figsize=(15, 5))\n",
    "gs = GridSpec(nrows=1, ncols=2)\n",
    "ax0 = fig.add_subplot(gs[0, 0])\n",
    "ax1 = fig.add_subplot(gs[0, 1])\n",
    "\n",
    "ax0.plot(time, epe_nocol, label='No Collateral')\n",
    "ax0.plot(time, epe_th, label='With Collateral')\n",
    "ax0.set(xlabel='Time/Years')\n",
    "ax0.set(ylabel='EPE')\n",
    "ax0.set_title('Exposure with Collateral and Threshold > 0')\n",
    "ax0.legend()\n",
    "\n",
    "ax1.plot(time, ene_nocol, label='No Collateral')\n",
    "ax1.plot(time, ene_th, label='With Collateral')\n",
    "ax1.set(xlabel='Time/Years')\n",
    "ax1.set(ylabel='ENE')\n",
    "ax1.set_title('Exposure with Collateral and Threshold > 0')\n",
    "ax1.legend()\n",
    "\n",
    "plt.show()"
   ]
  },
  {
   "cell_type": "markdown",
   "metadata": {
    "extensions": {
     "jupyter_dashboards": {
      "version": 1,
      "views": {
       "grid_default": {
        "col": 0,
        "height": 4,
        "hidden": true,
        "row": 31,
        "width": 4
       },
       "report_default": {
        "hidden": false
       }
      }
     }
    },
    "tags": []
   },
   "source": [
    "# Cash Collateral with Zero Threshold, but Non-Zero MTA"
   ]
  },
  {
   "cell_type": "markdown",
   "metadata": {
    "extensions": {
     "jupyter_dashboards": {
      "version": 1,
      "views": {
       "grid_default": {
        "col": 0,
        "height": 4,
        "hidden": true,
        "row": 12,
        "width": 12
       },
       "report_default": {
        "hidden": false
       }
      }
     }
    }
   },
   "source": [
    "Second case, see\n",
    "- ore_mta.xml \n",
    "- netting_mta.xml\n",
    "\n",
    "Re-run the post-processor:"
   ]
  },
  {
   "cell_type": "code",
   "execution_count": null,
   "metadata": {
    "tags": []
   },
   "outputs": [],
   "source": [
    "xml = \"Input/ore_mta.xml\"\n",
    "params = Parameters()\n",
    "params.fromFile(xml)\n",
    "ore_mta = OREApp(params, False)\n",
    "ore_mta.run()\n",
    "\n",
    "utilities.checkErrorsAndRunTime(ore_mta)      "
   ]
  },
  {
   "cell_type": "code",
   "execution_count": null,
   "metadata": {
    "tags": []
   },
   "outputs": [],
   "source": [
    "report_mta = ore_mta.getReport(\"exposure_nettingset_CPTY_A\")\n",
    "\n",
    "time = report_nocol.dataAsReal(2)\n",
    "epe_mta = report_mta.dataAsReal(3);\n",
    "ene_mta = report_mta.dataAsReal(4);\n",
    "    \n",
    "import matplotlib.pyplot as plt\n",
    "from matplotlib.gridspec import GridSpec\n",
    "\n",
    "fig = plt.figure(figsize=(15, 5))\n",
    "gs = GridSpec(nrows=1, ncols=2)\n",
    "ax0 = fig.add_subplot(gs[0, 0])\n",
    "ax1 = fig.add_subplot(gs[0, 1])\n",
    "\n",
    "ax0.plot(time, epe_nocol, label='No Collateral')\n",
    "ax0.plot(time, epe_mta, label='With Collateral')\n",
    "ax0.set(xlabel='Time/Years')\n",
    "ax0.set(ylabel='EPE')\n",
    "ax0.set_title('Exposure with Collateral, Threshold = 0, MTA > 0')\n",
    "ax0.legend()\n",
    "\n",
    "ax1.plot(time, ene_nocol, label='No Collateral')\n",
    "ax1.plot(time, ene_mta, label='With Collateral')\n",
    "ax1.set(xlabel='Time/Years')\n",
    "ax1.set(ylabel='ENE')\n",
    "ax1.set_title('Exposure with Collateral, Threshold = 0, MTA > 0')\n",
    "ax1.legend()\n",
    "\n",
    "plt.show()"
   ]
  },
  {
   "cell_type": "markdown",
   "metadata": {
    "extensions": {
     "jupyter_dashboards": {
      "version": 1,
      "views": {
       "grid_default": {
        "col": 0,
        "height": 4,
        "hidden": true,
        "row": 31,
        "width": 4
       },
       "report_default": {
        "hidden": false
       }
      }
     }
    },
    "tags": []
   },
   "source": [
    "# Cash Collateral with Perfect CSA (Zero Threshold and Zero MTA)"
   ]
  },
  {
   "cell_type": "markdown",
   "metadata": {
    "extensions": {
     "jupyter_dashboards": {
      "version": 1,
      "views": {
       "grid_default": {
        "col": 0,
        "height": 4,
        "hidden": true,
        "row": 12,
        "width": 12
       },
       "report_default": {
        "hidden": false
       }
      }
     }
    },
    "tags": []
   },
   "source": [
    "Third case:\n",
    "- ore_mpor.xml \n",
    "- netting_mpor.xml\n",
    "\n",
    "Re-run post processor:"
   ]
  },
  {
   "cell_type": "code",
   "execution_count": null,
   "metadata": {
    "tags": []
   },
   "outputs": [],
   "source": [
    "xml = \"Input/ore_mpor.xml\"\n",
    "params = Parameters()\n",
    "params.fromFile(xml)\n",
    "ore_mpor = OREApp(params, False)\n",
    "ore_mpor.run()\n",
    "\n",
    "utilities.checkErrorsAndRunTime(ore_mpor)"
   ]
  },
  {
   "cell_type": "code",
   "execution_count": null,
   "metadata": {
    "tags": []
   },
   "outputs": [],
   "source": [
    "report_mpor = ore_mpor.getReport(\"exposure_nettingset_CPTY_A\")\n",
    "\n",
    "time = report_nocol.dataAsReal(2)\n",
    "epe_mpor = report_mpor.dataAsReal(3);\n",
    "ene_mpor = report_mpor.dataAsReal(4);\n",
    "    \n",
    "import matplotlib.pyplot as plt\n",
    "from matplotlib.gridspec import GridSpec\n",
    "\n",
    "fig = plt.figure(figsize=(15, 5))\n",
    "gs = GridSpec(nrows=1, ncols=2)\n",
    "ax0 = fig.add_subplot(gs[0, 0])\n",
    "ax1 = fig.add_subplot(gs[0, 1])\n",
    "\n",
    "ax0.plot(time, epe_nocol, label='No Collateral')\n",
    "ax0.plot(time, epe_mpor, label='With Collateral')\n",
    "ax0.set(xlabel='Time/Years')\n",
    "ax0.set(ylabel='EPE')\n",
    "ax0.set_title('Exposure with Collateral, Threshold = MTA = 0')\n",
    "ax0.legend()\n",
    "\n",
    "ax1.plot(time, ene_nocol, label='No Collateral')\n",
    "ax1.plot(time, ene_mpor, label='With Collateral')\n",
    "ax1.set(xlabel='Time/Years')\n",
    "ax1.set(ylabel='ENE')\n",
    "ax1.set_title('Exposure with Collateral, Threshold = MTA = 0')\n",
    "ax1.legend()\n",
    "\n",
    "plt.show()"
   ]
  },
  {
   "cell_type": "markdown",
   "metadata": {
    "extensions": {
     "jupyter_dashboards": {
      "version": 1,
      "views": {
       "grid_default": {
        "col": 0,
        "height": 4,
        "hidden": true,
        "row": 31,
        "width": 4
       },
       "report_default": {
        "hidden": false
       }
      }
     }
    },
    "tags": []
   },
   "source": [
    "# Cash Collateral with Perfect CSA and Initial Margin"
   ]
  },
  {
   "cell_type": "markdown",
   "metadata": {
    "extensions": {
     "jupyter_dashboards": {
      "version": 1,
      "views": {
       "grid_default": {
        "col": 0,
        "height": 4,
        "hidden": true,
        "row": 12,
        "width": 12
       },
       "report_default": {
        "hidden": false
       }
      }
     }
    },
    "tags": []
   },
   "source": [
    "Case:\n",
    "- ore_external_im.xml \n",
    "- netting_mpor.xml\n",
    "\n",
    "In this case we take initial margin into account, i.e. the collateral balance $C(t)$ in our exposure formulas contains both VM and IM, and we expect further redcued exposure.\n",
    "\n",
    "ORE allows feeding a (deterministic) IM evolution, i.e. same IM across paths, generated externally, into the post-processor. \n",
    "\n",
    "The next post-processor run demonstrates this IM feed and its impact:"
   ]
  },
  {
   "cell_type": "code",
   "execution_count": null,
   "metadata": {},
   "outputs": [],
   "source": [
    "xml = \"Input/ore_external_im.xml\"\n",
    "params = Parameters()\n",
    "params.fromFile(xml)\n",
    "ore_im = OREApp(params, False)\n",
    "ore_im.run()\n",
    "\n",
    "utilities.checkErrorsAndRunTime(ore_im)"
   ]
  },
  {
   "cell_type": "code",
   "execution_count": null,
   "metadata": {},
   "outputs": [],
   "source": [
    "report_im = ore_im.getReport(\"exposure_nettingset_CPTY_A\")\n",
    "\n",
    "time = report_nocol.dataAsReal(2)\n",
    "epe_im = report_im.dataAsReal(3);\n",
    "ene_im = report_im.dataAsReal(4);\n",
    "    \n",
    "import matplotlib.pyplot as plt\n",
    "from matplotlib.gridspec import GridSpec\n",
    "\n",
    "fig = plt.figure(figsize=(15, 5))\n",
    "gs = GridSpec(nrows=1, ncols=2)\n",
    "ax0 = fig.add_subplot(gs[0, 0])\n",
    "ax1 = fig.add_subplot(gs[0, 1])\n",
    "\n",
    "ax0.plot(time, epe_nocol, label='No Collateral')\n",
    "ax0.plot(time, epe_im, label='With Collateral')\n",
    "ax0.set(xlabel='Time/Years')\n",
    "ax0.set(ylabel='EPE')\n",
    "ax0.set_title('Exposure with Collateral, Threshold = MTA = 0')\n",
    "ax0.legend()\n",
    "\n",
    "ax1.plot(time, ene_nocol, label='No Collateral')\n",
    "ax1.plot(time, ene_im, label='With Collateral')\n",
    "ax1.set(xlabel='Time/Years')\n",
    "ax1.set(ylabel='ENE')\n",
    "ax1.set_title('Exposure with Collateral, Threshold = MTA = 0')\n",
    "ax1.legend()\n",
    "\n",
    "plt.show()"
   ]
  },
  {
   "cell_type": "markdown",
   "metadata": {
    "extensions": {
     "jupyter_dashboards": {
      "version": 1,
      "views": {
       "grid_default": {
        "col": 0,
        "height": 4,
        "hidden": true,
        "row": 31,
        "width": 4
       },
       "report_default": {
        "hidden": false
       }
      }
     }
    },
    "tags": []
   },
   "source": [
    "# Dynamic Initial Margin"
   ]
  },
  {
   "cell_type": "markdown",
   "metadata": {
    "extensions": {
     "jupyter_dashboards": {
      "version": 1,
      "views": {
       "grid_default": {
        "col": 0,
        "height": 4,
        "hidden": true,
        "row": 12,
        "width": 12
       },
       "report_default": {
        "hidden": false
       }
      }
     }
    },
    "tags": []
   },
   "source": [
    "Final case:\n",
    "- ore_dim.xml \n",
    "- simulation_dim.xml\n",
    "- netting_mpor.xml\n",
    "\n",
    "In ORE we support a \"Dynamic Initial Margin\" model that constructs **path-wise IM evolution** from the NPV cube. The model uses a regression-based approach to compute conditional variances of the NPV moves over consecutive simulation dates. From variances we compute standard deviations which are scaled up with a Gaussian assumption to the typical 99% quantile as a proxy for Initial Margin. We can apply an additional \"t0 scaling\" to match the true IM for the portfolio as of today. \n",
    "\n",
    "To demonstrate that model, we run the NPV cube again, this time with a **StickyDate** specification in simulation_dim.xml in order to avoid spikes in the IM evolution due to cashflows, i.e. to use clean NPV variances for the IM estimate. \n",
    "\n",
    "Re-run cube generation and post-processor (takes about a minute):"
   ]
  },
  {
   "cell_type": "code",
   "execution_count": null,
   "metadata": {},
   "outputs": [],
   "source": [
    "xml = \"Input/ore_dim.xml\"\n",
    "params = Parameters()\n",
    "params.fromFile(xml)\n",
    "ore_dim = OREApp(params, False)\n",
    "ore_dim.run()\n",
    "\n",
    "utilities.checkErrorsAndRunTime(ore_dim)    "
   ]
  },
  {
   "cell_type": "code",
   "execution_count": null,
   "metadata": {
    "tags": []
   },
   "outputs": [],
   "source": [
    "utilities.writeList(ore_dim.getReportNames())"
   ]
  },
  {
   "cell_type": "code",
   "execution_count": null,
   "metadata": {},
   "outputs": [],
   "source": [
    "report_im_evolution = ore_dim.getReport(\"dim_evolution\")\n",
    "report_vm_evolution = ore_dim.getReport(\"colva_nettingset_CPTY_A\")\n",
    "report_regression = ore_dim.getReport(\"dim_regression_0\")"
   ]
  },
  {
   "cell_type": "code",
   "execution_count": null,
   "metadata": {
    "tags": []
   },
   "outputs": [],
   "source": [
    "utilities.checkReportStructure(\"dim_evolution\", report_im_evolution)"
   ]
  },
  {
   "cell_type": "code",
   "execution_count": null,
   "metadata": {
    "tags": []
   },
   "outputs": [],
   "source": [
    "utilities.checkReportStructure(\"colva_nettingset_CPTY_A\", report_vm_evolution)"
   ]
  },
  {
   "cell_type": "markdown",
   "metadata": {
    "extensions": {
     "jupyter_dashboards": {
      "version": 1,
      "views": {
       "grid_default": {
        "col": 0,
        "height": 4,
        "hidden": true,
        "row": 31,
        "width": 4
       },
       "report_default": {
        "hidden": false
       }
      }
     }
    },
    "tags": []
   },
   "source": [
    "### DIM evolution as average IM across paths"
   ]
  },
  {
   "cell_type": "code",
   "execution_count": null,
   "metadata": {},
   "outputs": [],
   "source": [
    "time = report_im_evolution.dataAsReal(8)\n",
    "avgDim = report_im_evolution.dataAsReal(4)\n",
    "\n",
    "time2 = report_vm_evolution.dataAsReal(2)\n",
    "colBalance = report_vm_evolution.dataAsReal(3)\n",
    "# todo: fix #N/A in row 1 of the vm report, skip for now\n",
    "time2 = time2[1:]\n",
    "colBalance = colBalance[1:]\n",
    "\n",
    "import matplotlib.pyplot as plt\n",
    "from matplotlib.gridspec import GridSpec\n",
    "\n",
    "fig = plt.figure(figsize=(15, 5))\n",
    "gs = GridSpec(nrows=1, ncols=2)\n",
    "\n",
    "ax0 = fig.add_subplot(gs[0, 0])\n",
    "ax0.plot(time, avgDim, label='IM')\n",
    "ax0.set(xlabel='Time/Years')\n",
    "ax0.set(ylabel='IM')\n",
    "ax0.set_title('DIM Evolution')\n",
    "ax0.legend()\n",
    "\n",
    "ax1 = fig.add_subplot(gs[0, 1])\n",
    "ax1.plot(time2, colBalance, label='VM')\n",
    "ax1.set(xlabel='Time/Years')\n",
    "ax1.set(ylabel='VM')\n",
    "ax1.set_title('VM Evolution')\n",
    "ax1.legend()\n",
    "\n",
    "plt.show()"
   ]
  },
  {
   "cell_type": "markdown",
   "metadata": {
    "extensions": {
     "jupyter_dashboards": {
      "version": 1,
      "views": {
       "grid_default": {
        "col": 0,
        "height": 4,
        "hidden": true,
        "row": 12,
        "width": 12
       },
       "report_default": {
        "hidden": false
       }
      }
     }
    },
    "tags": []
   },
   "source": [
    "The DIM evolution shown here is the Expected IM (averaged across paths) - this is the evolution that we have fed as an external input into the previous case.\n",
    "\n",
    "Final graph: Regression data at grid point 100. The slope of the regression curve indicates by how much the IM varies across paths."
   ]
  },
  {
   "cell_type": "markdown",
   "metadata": {
    "extensions": {
     "jupyter_dashboards": {
      "version": 1,
      "views": {
       "grid_default": {
        "col": 0,
        "height": 4,
        "hidden": true,
        "row": 31,
        "width": 4
       },
       "report_default": {
        "hidden": false
       }
      }
     }
    },
    "tags": []
   },
   "source": [
    "### DIM regression to estimate IM for each path at a given point in time"
   ]
  },
  {
   "cell_type": "markdown",
   "metadata": {
    "extensions": {
     "jupyter_dashboards": {
      "version": 1,
      "views": {
       "grid_default": {
        "col": 0,
        "height": 4,
        "hidden": true,
        "row": 31,
        "width": 4
       },
       "report_default": {
        "hidden": false
       }
      }
     }
    },
    "tags": []
   },
   "source": [
    "- We pick one point in time, grid point 100 here, about year 4 on the bi-weekly grid\n",
    "- **Regression plot**: Consider all clean NPV moves (on all paths) across the next bi-weekly period, square them and plot against regressor (NPV in this case)\n",
    "- **Simple DIM** estimate: pick the upper 99% quantile of clean NPV moves\n",
    "- **Zero Order DIM** estimate: Compute standard deviation of clean NPV moves, scale up to 99% quantile with Gaussian assumption (factor 2.33)\n",
    "- **First Order DIM** estimate: Compute **conditional variance** of clean NPV moves by first order **regression**, yields a path-dependent IM estimate; NPV  as single regressor here"
   ]
  },
  {
   "cell_type": "code",
   "execution_count": null,
   "metadata": {
    "tags": []
   },
   "outputs": [],
   "source": [
    "utilities.checkReportStructure(\"dim_regression_0\", report_regression)"
   ]
  },
  {
   "cell_type": "code",
   "execution_count": null,
   "metadata": {},
   "outputs": [],
   "source": [
    "regressor = report_regression.dataAsReal(1)\n",
    "firstOrderDim = report_regression.dataAsReal(2)\n",
    "zeroOrderDim = report_regression.dataAsReal(5)\n",
    "deltaNpv = report_regression.dataAsReal(6)\n",
    "simpleDim = report_regression.dataAsReal(7)\n",
    "\n",
    "# take out the scaling to the 99% quantile, divide DIM estimates by 2.33\n",
    "# take squares to consider variances\n",
    "x = []\n",
    "deltaNpv2 = []\n",
    "zeroOrderDim2 = []\n",
    "firstOrderDim2 = []\n",
    "simpleDim2 = []\n",
    "for i in range(0, len(deltaNpv)-1):\n",
    "    x.append(regressor[i])\n",
    "    deltaNpv2.append(pow(float(deltaNpv[i]), 2))                 # take square to visualize variances\n",
    "    zeroOrderDim2.append(pow(float(zeroOrderDim[i]/2.33), 2))    # divide by 2.33 to take out the 99% quantile scaling\n",
    "    firstOrderDim2.append(pow(float(firstOrderDim[i]/2.33), 2))  # \"\n",
    "    simpleDim2.append(pow(float(simpleDim[i]/2.33), 2))          # \"\n",
    "\n",
    "import matplotlib.pyplot as plt\n",
    "from matplotlib.gridspec import GridSpec\n",
    "\n",
    "fig = plt.figure(figsize=(15, 5))\n",
    "gs = GridSpec(nrows=1, ncols=1)\n",
    "\n",
    "cutoff = 4e12\n",
    "ax0 = fig.add_subplot(gs[0, 0])\n",
    "ax0.plot(x, deltaNpv2, label='Simulation Data: Clean NPV Variances', marker='.', linestyle='')\n",
    "ax0.plot(x, simpleDim2, label='Simple DIM / 2.33')\n",
    "ax0.plot(x, zeroOrderDim2, label='Zero Order DIM / 2.33')\n",
    "ax0.plot(x, firstOrderDim2, label='First Order DIM / 2.33')\n",
    "ax0.set(xlabel='Regressor')\n",
    "ax0.set(ylabel='Clean NPV Variance')\n",
    "ax0.set_title('DIM Regression')\n",
    "ax0.set_ylim([0, cutoff])\n",
    "ax0.legend()\n",
    "\n",
    "plt.show()"
   ]
  },
  {
   "cell_type": "markdown",
   "metadata": {
    "extensions": {
     "jupyter_dashboards": {
      "version": 1,
      "views": {
       "grid_default": {
        "col": 0,
        "height": 4,
        "hidden": true,
        "row": 31,
        "width": 4
       },
       "report_default": {
        "hidden": false
       }
      }
     }
    },
    "tags": []
   },
   "source": [
    "# Margin Value Adjustment"
   ]
  },
  {
   "cell_type": "markdown",
   "metadata": {
    "extensions": {
     "jupyter_dashboards": {
      "version": 1,
      "views": {
       "grid_default": {
        "col": 0,
        "height": 4,
        "hidden": true,
        "row": 31,
        "width": 4
       },
       "report_default": {
        "hidden": false
       }
      }
     }
    },
    "tags": []
   },
   "source": [
    "Initial Margin suppresses the residual credit exposure, but needs to be funded and causes additional cost throught the life of a collateralized portfolio.\n",
    "\n",
    "The present value of the net funding (borrowing minus investment) cost of posted IM is another value adjustment\n",
    "\n",
    "\\begin{align}\n",
    "\\mathit{MVA} &= \\sum_{i=1}^n (f_b - s_I)\\times \\delta_i \\times S_{ours}(t_i)\\times S_{theirs}(t_i) \\times \\mathbb{E}^N\\left[\n",
    "\\frac{\\mathit{DIM}(t_i)}{N(t_i)}\\right].  \n",
    "\\end{align}\n",
    "\n",
    "which is another output of ORE."
   ]
  },
  {
   "cell_type": "code",
   "execution_count": null,
   "metadata": {},
   "outputs": [],
   "source": []
  }
 ],
 "metadata": {
  "anaconda-cloud": {},
  "extensions": {
   "jupyter_dashboards": {
    "activeView": "report_default",
    "version": 1,
    "views": {
     "grid_default": {
      "cellMargin": 10,
      "defaultCellHeight": 20,
      "maxColumns": 12,
      "name": "grid",
      "type": "grid"
     },
     "report_default": {
      "name": "report",
      "type": "report"
     }
    }
   }
  },
  "kernelspec": {
   "display_name": "Python 3 (ipykernel)",
   "language": "python",
   "name": "python3"
  },
  "language_info": {
   "codemirror_mode": {
    "name": "ipython",
    "version": 3
   },
   "file_extension": ".py",
   "mimetype": "text/x-python",
   "name": "python",
   "nbconvert_exporter": "python",
   "pygments_lexer": "ipython3",
   "version": "3.11.2"
  },
  "widgets": {
   "state": {
    "706c717787fc48baacd29c35c5b92bba": {
     "views": [
      {
       "cell_index": 13
      }
     ]
    }
   },
   "version": "1.2.0"
  }
 },
 "nbformat": 4,
 "nbformat_minor": 4
}
