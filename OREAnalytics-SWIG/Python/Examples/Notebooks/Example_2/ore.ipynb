{
 "cells": [
  {
   "cell_type": "markdown",
   "metadata": {
    "extensions": {
     "jupyter_dashboards": {
      "version": 1,
      "views": {
       "grid_default": {
        "col": 0,
        "height": 4,
        "hidden": true,
        "row": 20,
        "width": 4
       },
       "report_default": {
        "hidden": false
       }
      }
     }
    }
   },
   "source": [
    "\n",
    "# Collateralized Exposure "
   ]
  },
  {
   "cell_type": "markdown",
   "metadata": {
    "extensions": {
     "jupyter_dashboards": {
      "version": 1,
      "views": {
       "grid_default": {
        "col": 4,
        "height": 4,
        "hidden": true,
        "row": 26,
        "width": 4
       },
       "report_default": {
        "hidden": false
       }
      }
     }
    }
   },
   "source": [
    "This dashboard demonstrates the modelling of collateral in exposure simulations \n",
    "- Portfolio: EUR, USD and GBP Swaps\n",
    "- Analytics: Exposure simulation and XVA, bi-weekly time grid\n",
    "\n",
    "Prerequisites:\n",
    "- This notebook assumes a standard installation of Python 3\n",
    "- ORE Python module installed: run \"pip install osre\" to get the latest version"
   ]
  },
  {
   "cell_type": "markdown",
   "metadata": {
    "extensions": {
     "jupyter_dashboards": {
      "version": 1,
      "views": {
       "grid_default": {
        "col": 0,
        "height": 2,
        "hidden": false,
        "row": 0,
        "width": 12
       },
       "report_default": {
        "hidden": false
       }
      }
     }
    }
   },
   "source": [
    "## Launch ORE"
   ]
  },
  {
   "cell_type": "markdown",
   "metadata": {
    "extensions": {
     "jupyter_dashboards": {
      "version": 1,
      "views": {
       "grid_default": {
        "col": 0,
        "height": 4,
        "hidden": true,
        "row": 12,
        "width": 12
       },
       "report_default": {
        "hidden": false
       }
      }
     }
    },
    "tags": []
   },
   "source": [
    "Kick off a process in ORE, loading all inputs from Input/ore.xml and the files referenced therein. \n",
    "This is equivalent to using the ORE command line application."
   ]
  },
  {
   "cell_type": "code",
   "execution_count": null,
   "metadata": {
    "extensions": {
     "jupyter_dashboards": {
      "version": 1,
      "views": {
       "grid_default": {
        "hidden": true
       },
       "report_default": {
        "hidden": true
       }
      }
     }
    },
    "scrolled": true
   },
   "outputs": [],
   "source": [
    "import sys, time, math\n",
    "import utilities\n",
    "from OREAnalytics import *\n",
    "\n",
    "print (\"Load parameters\")\n",
    "params = Parameters()\n",
    "params.fromFile(\"Input/ore.xml\")\n",
    "\n",
    "print (\"Create OREApp\")\n",
    "ore = OREApp(params)"
   ]
  },
  {
   "cell_type": "markdown",
   "metadata": {
    "extensions": {
     "jupyter_dashboards": {
      "version": 1,
      "views": {
       "grid_default": {
        "col": 0,
        "height": 4,
        "hidden": true,
        "row": 12,
        "width": 12
       },
       "report_default": {
        "hidden": false
       }
      }
     }
    }
   },
   "source": [
    "This should have loaded the main inputs\n",
    "- portfolio\n",
    "- today's market configuration\n",
    "- conventions\n",
    "- curve configrations\n",
    "- pricing engine configuration"
   ]
  },
  {
   "cell_type": "code",
   "execution_count": null,
   "metadata": {
    "extensions": {
     "jupyter_dashboards": {
      "version": 1,
      "views": {
       "grid_default": {
        "hidden": true
       },
       "report_default": {
        "hidden": true
       }
      }
     }
    },
    "tags": []
   },
   "outputs": [],
   "source": [
    "portfolio = ore.getInputs().portfolio()\n",
    "print(\"Portfolio size:\", portfolio.size())\n",
    "for id in portfolio.ids():\n",
    "    trade = portfolio.get(id)\n",
    "    print(\"Trade id\", id, \"type\", trade.tradeType())\n",
    "#portfolioXML = portfolio.toXMLString()\n",
    "#print(portfolioXML)"
   ]
  },
  {
   "cell_type": "markdown",
   "metadata": {
    "extensions": {
     "jupyter_dashboards": {
      "version": 1,
      "views": {
       "grid_default": {
        "col": 0,
        "height": 4,
        "hidden": true,
        "row": 12,
        "width": 12
       },
       "report_default": {
        "hidden": false
       }
      }
     }
    }
   },
   "source": [
    "Kick off the ORE process:"
   ]
  },
  {
   "cell_type": "code",
   "execution_count": null,
   "metadata": {
    "extensions": {
     "jupyter_dashboards": {
      "version": 1,
      "views": {
       "grid_default": {
        "hidden": true
       },
       "report_default": {
        "hidden": true
       }
      }
     }
    },
    "scrolled": true
   },
   "outputs": [],
   "source": [
    "print (\"Run the ORE process\");\n",
    "ore.run()"
   ]
  },
  {
   "cell_type": "markdown",
   "metadata": {
    "extensions": {
     "jupyter_dashboards": {
      "version": 1,
      "views": {
       "grid_default": {
        "col": 0,
        "height": 2,
        "hidden": false,
        "row": 7,
        "width": 12
       },
       "report_default": {
        "hidden": false
       }
      }
     }
    }
   },
   "source": [
    "## Uncollateralized Exposure"
   ]
  },
  {
   "cell_type": "code",
   "execution_count": null,
   "metadata": {
    "extensions": {
     "jupyter_dashboards": {
      "version": 1,
      "views": {
       "grid_default": {
        "col": 0,
        "height": 7,
        "hidden": false,
        "row": 9,
        "width": 12
       },
       "report_default": {
        "hidden": true
       }
      }
     }
    }
   },
   "outputs": [],
   "source": [
    "utilities.writeReportList(ore.getReportNames())"
   ]
  },
  {
   "cell_type": "markdown",
   "metadata": {
    "extensions": {
     "jupyter_dashboards": {
      "version": 1,
      "views": {
       "grid_default": {
        "col": 0,
        "height": 4,
        "hidden": true,
        "row": 12,
        "width": 12
       },
       "report_default": {
        "hidden": false
       }
      }
     }
    }
   },
   "source": [
    "Plot EPE and ENE, single trades and netting set: "
   ]
  },
  {
   "cell_type": "code",
   "execution_count": null,
   "metadata": {},
   "outputs": [],
   "source": [
    "report_nocol = ore.getReport(\"exposure_nettingset_CPTY_A\")\n",
    "report_1 = ore.getReport(\"exposure_trade_Swap_1\")\n",
    "report_2 = ore.getReport(\"exposure_trade_Swap_2\")\n",
    "report_3 = ore.getReport(\"exposure_trade_Swap_3\")"
   ]
  },
  {
   "cell_type": "code",
   "execution_count": null,
   "metadata": {},
   "outputs": [],
   "source": [
    "time = report_1.dataAsReal(2)\n",
    "epe_1 = report_1.dataAsReal(3);\n",
    "ene_1 = report_1.dataAsReal(4);\n",
    "epe_2 = report_2.dataAsReal(3);\n",
    "ene_2 = report_2.dataAsReal(4);\n",
    "epe_3 = report_3.dataAsReal(3);\n",
    "ene_3 = report_3.dataAsReal(4);\n",
    "epe_nocol = report_nocol.dataAsReal(3);\n",
    "ene_nocol = report_nocol.dataAsReal(4);\n",
    "    \n",
    "import matplotlib.pyplot as plt\n",
    "from matplotlib.gridspec import GridSpec\n",
    "\n",
    "fig = plt.figure(figsize=(15, 5))\n",
    "gs = GridSpec(nrows=1, ncols=2)\n",
    "ax0 = fig.add_subplot(gs[0, 0])\n",
    "ax1 = fig.add_subplot(gs[0, 1])\n",
    "\n",
    "ax0.plot(time, epe_nocol, label='Netting Set')\n",
    "ax0.plot(time, epe_1, label='Swap 1')\n",
    "ax0.plot(time, epe_2, label='Swap 2')\n",
    "ax0.plot(time, epe_3, label='Swap 3')\n",
    "ax0.set(xlabel='Time/Years')\n",
    "ax0.set(ylabel='Exposure')\n",
    "ax0.set_title('EPE')\n",
    "ax0.legend()\n",
    "\n",
    "ax1.plot(time, ene_nocol, label='Netting Set')\n",
    "ax1.plot(time, ene_1, label='Swap 1')\n",
    "ax1.plot(time, ene_2, label='Swap 2')\n",
    "ax1.plot(time, ene_3, label='Swap 3')\n",
    "ax1.set(xlabel='Time/Years')\n",
    "ax1.set(ylabel='Exposure')\n",
    "ax1.set_title('ENE')\n",
    "ax1.legend()\n",
    "\n",
    "plt.show()"
   ]
  },
  {
   "cell_type": "markdown",
   "metadata": {
    "extensions": {
     "jupyter_dashboards": {
      "version": 1,
      "views": {
       "grid_default": {
        "col": 0,
        "height": 4,
        "hidden": true,
        "row": 31,
        "width": 4
       },
       "report_default": {
        "hidden": false
       }
      }
     }
    }
   },
   "source": [
    "# Cash Collateral with Non-Zero Threshold"
   ]
  },
  {
   "cell_type": "markdown",
   "metadata": {
    "extensions": {
     "jupyter_dashboards": {
      "version": 1,
      "views": {
       "grid_default": {
        "col": 0,
        "height": 4,
        "hidden": true,
        "row": 12,
        "width": 12
       },
       "report_default": {
        "hidden": false
       }
      }
     }
    }
   },
   "source": [
    "We have prepared a second configuration for this case, see\n",
    "- ore_threshhold.xml \n",
    "- netting_threshold.xml\n",
    "\n",
    "We re-run ORE now, but we do not need to generate the NPV cube again. We load the cube from our previous run. This allows quickly exploring alternative collateral settings in separate post-processor runs. We use a separate ORE instance here to keep all previous results."
   ]
  },
  {
   "cell_type": "code",
   "execution_count": null,
   "metadata": {
    "tags": []
   },
   "outputs": [],
   "source": [
    "xml = \"Input/ore_threshold.xml\"\n",
    "print (\"Run ORE for\", xml)\n",
    "params = Parameters()\n",
    "params.fromFile(xml)\n",
    "ore_threshold = OREApp(params)\n",
    "ore_threshold.run()"
   ]
  },
  {
   "cell_type": "code",
   "execution_count": null,
   "metadata": {},
   "outputs": [],
   "source": [
    "report_th = ore_threshold.getReport(\"exposure_nettingset_CPTY_A\")"
   ]
  },
  {
   "cell_type": "code",
   "execution_count": null,
   "metadata": {},
   "outputs": [],
   "source": [
    "time = report_nocol.dataAsReal(2)\n",
    "epe_th = report_th.dataAsReal(3);\n",
    "ene_th = report_th.dataAsReal(4);\n",
    "    \n",
    "import matplotlib.pyplot as plt\n",
    "from matplotlib.gridspec import GridSpec\n",
    "\n",
    "fig = plt.figure(figsize=(15, 5))\n",
    "gs = GridSpec(nrows=1, ncols=2)\n",
    "ax0 = fig.add_subplot(gs[0, 0])\n",
    "ax1 = fig.add_subplot(gs[0, 1])\n",
    "\n",
    "ax0.plot(time, epe_nocol, label='No Collateral')\n",
    "ax0.plot(time, epe_th, label='With Collateral')\n",
    "ax0.set(xlabel='Time/Years')\n",
    "ax0.set(ylabel='EPE')\n",
    "ax0.set_title('Exposure with Collateral and Threshold > 0')\n",
    "ax0.legend()\n",
    "\n",
    "ax1.plot(time, ene_nocol, label='No Collateral')\n",
    "ax1.plot(time, ene_th, label='With Collateral')\n",
    "ax1.set(xlabel='Time/Years')\n",
    "ax1.set(ylabel='ENE')\n",
    "ax1.set_title('Exposure with Collateral and Threshold > 0')\n",
    "ax1.legend()\n",
    "\n",
    "plt.show()"
   ]
  },
  {
   "cell_type": "markdown",
   "metadata": {
    "extensions": {
     "jupyter_dashboards": {
      "version": 1,
      "views": {
       "grid_default": {
        "col": 0,
        "height": 4,
        "hidden": true,
        "row": 31,
        "width": 4
       },
       "report_default": {
        "hidden": false
       }
      }
     }
    }
   },
   "source": [
    "# Cash Collateral with Zero Threshold and Non-Zero MTA"
   ]
  },
  {
   "cell_type": "markdown",
   "metadata": {
    "extensions": {
     "jupyter_dashboards": {
      "version": 1,
      "views": {
       "grid_default": {
        "col": 0,
        "height": 4,
        "hidden": true,
        "row": 12,
        "width": 12
       },
       "report_default": {
        "hidden": false
       }
      }
     }
    }
   },
   "source": [
    "We have prepared another configuration for this case, see\n",
    "- ore_mta.xml \n",
    "- netting_mta.xml\n",
    "\n",
    "Re-run the post-processor:"
   ]
  },
  {
   "cell_type": "code",
   "execution_count": null,
   "metadata": {
    "tags": []
   },
   "outputs": [],
   "source": [
    "xml = \"Input/ore_mta.xml\"\n",
    "print (\"Run ORE for\", xml)\n",
    "params = Parameters()\n",
    "params.fromFile(xml)\n",
    "ore_mta = OREApp(params)\n",
    "ore_mta.run()"
   ]
  },
  {
   "cell_type": "code",
   "execution_count": null,
   "metadata": {},
   "outputs": [],
   "source": [
    "report_mta = ore_mta.getReport(\"exposure_nettingset_CPTY_A\")"
   ]
  },
  {
   "cell_type": "code",
   "execution_count": null,
   "metadata": {
    "tags": []
   },
   "outputs": [],
   "source": [
    "time = report_nocol.dataAsReal(2)\n",
    "epe_mta = report_mta.dataAsReal(3);\n",
    "ene_mta = report_mta.dataAsReal(4);\n",
    "    \n",
    "import matplotlib.pyplot as plt\n",
    "from matplotlib.gridspec import GridSpec\n",
    "\n",
    "fig = plt.figure(figsize=(15, 5))\n",
    "gs = GridSpec(nrows=1, ncols=2)\n",
    "ax0 = fig.add_subplot(gs[0, 0])\n",
    "ax1 = fig.add_subplot(gs[0, 1])\n",
    "\n",
    "ax0.plot(time, epe_nocol, label='No Collateral')\n",
    "ax0.plot(time, epe_mta, label='With Collateral')\n",
    "ax0.set(xlabel='Time/Years')\n",
    "ax0.set(ylabel='EPE')\n",
    "ax0.set_title('Exposure with Collateral, Threshold = 0, MTA > 0')\n",
    "ax0.legend()\n",
    "\n",
    "ax1.plot(time, ene_nocol, label='No Collateral')\n",
    "ax1.plot(time, ene_mta, label='With Collateral')\n",
    "ax1.set(xlabel='Time/Years')\n",
    "ax1.set(ylabel='ENE')\n",
    "ax1.set_title('Exposure with Collateral, Threshold = 0, MTA > 0')\n",
    "ax1.legend()\n",
    "\n",
    "plt.show()"
   ]
  },
  {
   "cell_type": "markdown",
   "metadata": {
    "extensions": {
     "jupyter_dashboards": {
      "version": 1,
      "views": {
       "grid_default": {
        "col": 0,
        "height": 4,
        "hidden": true,
        "row": 31,
        "width": 4
       },
       "report_default": {
        "hidden": false
       }
      }
     }
    },
    "tags": []
   },
   "source": [
    "# Cash Collateral with Perfect CSA (Zero Threshold and Zero MTA)"
   ]
  },
  {
   "cell_type": "markdown",
   "metadata": {
    "extensions": {
     "jupyter_dashboards": {
      "version": 1,
      "views": {
       "grid_default": {
        "col": 0,
        "height": 4,
        "hidden": true,
        "row": 12,
        "width": 12
       },
       "report_default": {
        "hidden": false
       }
      }
     }
    },
    "tags": []
   },
   "source": [
    "We have prepared another configuration for this case, see\n",
    "- ore_mpor.xml \n",
    "- netting_mpor.xml\n",
    "\n",
    "Re-run post processor:"
   ]
  },
  {
   "cell_type": "code",
   "execution_count": null,
   "metadata": {
    "tags": []
   },
   "outputs": [],
   "source": [
    "xml = \"Input/ore_mpor.xml\"\n",
    "print (\"Run ORE for\", xml)\n",
    "params = Parameters()\n",
    "params.fromFile(xml)\n",
    "ore_mpor = OREApp(params)\n",
    "ore_mpor.run()"
   ]
  },
  {
   "cell_type": "code",
   "execution_count": null,
   "metadata": {
    "tags": []
   },
   "outputs": [],
   "source": [
    "report_mpor = ore_mpor.getReport(\"exposure_nettingset_CPTY_A\")"
   ]
  },
  {
   "cell_type": "code",
   "execution_count": null,
   "metadata": {
    "tags": []
   },
   "outputs": [],
   "source": [
    "time = report_nocol.dataAsReal(2)\n",
    "epe_mpor = report_mpor.dataAsReal(3);\n",
    "ene_mpor = report_mpor.dataAsReal(4);\n",
    "    \n",
    "import matplotlib.pyplot as plt\n",
    "from matplotlib.gridspec import GridSpec\n",
    "\n",
    "fig = plt.figure(figsize=(15, 5))\n",
    "gs = GridSpec(nrows=1, ncols=2)\n",
    "ax0 = fig.add_subplot(gs[0, 0])\n",
    "ax1 = fig.add_subplot(gs[0, 1])\n",
    "\n",
    "ax0.plot(time, epe_nocol, label='No Collateral')\n",
    "ax0.plot(time, epe_mpor, label='With Collateral')\n",
    "ax0.set(xlabel='Time/Years')\n",
    "ax0.set(ylabel='EPE')\n",
    "ax0.set_title('Exposure with Collateral, Threshold = MTA = 0')\n",
    "ax0.legend()\n",
    "\n",
    "ax1.plot(time, ene_nocol, label='No Collateral')\n",
    "ax1.plot(time, ene_mpor, label='With Collateral')\n",
    "ax1.set(xlabel='Time/Years')\n",
    "ax1.set(ylabel='ENE')\n",
    "ax1.set_title('Exposure with Collateral, Threshold = MTA = 0')\n",
    "ax1.legend()\n",
    "\n",
    "plt.show()"
   ]
  },
  {
   "cell_type": "markdown",
   "metadata": {
    "extensions": {
     "jupyter_dashboards": {
      "version": 1,
      "views": {
       "grid_default": {
        "col": 0,
        "height": 4,
        "hidden": true,
        "row": 31,
        "width": 4
       },
       "report_default": {
        "hidden": false
       }
      }
     }
    },
    "tags": []
   },
   "source": [
    "# Cash Collateral with Perfect CSA and Initial Margin"
   ]
  },
  {
   "cell_type": "markdown",
   "metadata": {
    "extensions": {
     "jupyter_dashboards": {
      "version": 1,
      "views": {
       "grid_default": {
        "col": 0,
        "height": 4,
        "hidden": true,
        "row": 12,
        "width": 12
       },
       "report_default": {
        "hidden": false
       }
      }
     }
    },
    "tags": []
   },
   "source": [
    "We have prepared another configuration for this case, see\n",
    "- ore_dim.xml \n",
    "- netting_mpor.xml\n",
    "\n",
    "Re-run post processor:"
   ]
  },
  {
   "cell_type": "code",
   "execution_count": null,
   "metadata": {},
   "outputs": [],
   "source": [
    "xml = \"Input/ore_dim.xml\"\n",
    "print (\"Run ORE for\", xml)\n",
    "params = Parameters()\n",
    "params.fromFile(xml)\n",
    "ore_dim = OREApp(params)\n",
    "ore_dim.run()"
   ]
  },
  {
   "cell_type": "code",
   "execution_count": null,
   "metadata": {},
   "outputs": [],
   "source": [
    "report_dim = ore_dim.getReport(\"exposure_nettingset_CPTY_A\")"
   ]
  },
  {
   "cell_type": "code",
   "execution_count": null,
   "metadata": {},
   "outputs": [],
   "source": [
    "time = report_nocol.dataAsReal(2)\n",
    "epe_dim = report_dim.dataAsReal(3);\n",
    "ene_dim = report_dim.dataAsReal(4);\n",
    "    \n",
    "import matplotlib.pyplot as plt\n",
    "from matplotlib.gridspec import GridSpec\n",
    "\n",
    "fig = plt.figure(figsize=(15, 5))\n",
    "gs = GridSpec(nrows=1, ncols=2)\n",
    "ax0 = fig.add_subplot(gs[0, 0])\n",
    "ax1 = fig.add_subplot(gs[0, 1])\n",
    "\n",
    "ax0.plot(time, epe_nocol, label='No Collateral')\n",
    "ax0.plot(time, epe_dim, label='With Collateral')\n",
    "ax0.set(xlabel='Time/Years')\n",
    "ax0.set(ylabel='EPE')\n",
    "ax0.set_title('Exposure with Collateral, Threshold = MTA = 0')\n",
    "ax0.legend()\n",
    "\n",
    "ax1.plot(time, ene_nocol, label='No Collateral')\n",
    "ax1.plot(time, ene_dim, label='With Collateral')\n",
    "ax1.set(xlabel='Time/Years')\n",
    "ax1.set(ylabel='ENE')\n",
    "ax1.set_title('Exposure with Collateral, Threshold = MTA = 0')\n",
    "ax1.legend()\n",
    "\n",
    "plt.show()"
   ]
  },
  {
   "cell_type": "code",
   "execution_count": null,
   "metadata": {},
   "outputs": [],
   "source": [
    "utilities.writeReportList(ore_dim.getReportNames())"
   ]
  },
  {
   "cell_type": "code",
   "execution_count": null,
   "metadata": {},
   "outputs": [],
   "source": [
    "report_im_evolution = ore_dim.getReport(\"dim_evolution\")\n",
    "report_vm_evolution = ore_dim.getReport(\"colva_nettingset_CPTY_A\")"
   ]
  },
  {
   "cell_type": "code",
   "execution_count": null,
   "metadata": {
    "jupyter": {
     "source_hidden": true
    },
    "tags": []
   },
   "outputs": [],
   "source": [
    "utilities.checkReportStructure(report_im_evolution)"
   ]
  },
  {
   "cell_type": "code",
   "execution_count": null,
   "metadata": {
    "jupyter": {
     "source_hidden": true
    },
    "tags": []
   },
   "outputs": [],
   "source": [
    "utilities.checkReportStructure(report_vm_evolution)"
   ]
  },
  {
   "cell_type": "code",
   "execution_count": 59,
   "metadata": {},
   "outputs": [
    {
     "data": {
      "image/png": "[encoded data removed]",
      "text/plain": [
       "<Figure size 1080x360 with 2 Axes>"
      ]
     },
     "metadata": {
      "needs_background": "light"
     },
     "output_type": "display_data"
    }
   ],
   "source": [
    "time = report_im_evolution.dataAsReal(8)\n",
    "avgDim = report_im_evolution.dataAsReal(4)\n",
    "\n",
    "time2 = report_vm_evolution.dataAsReal(2)\n",
    "colBalance = report_vm_evolution.dataAsReal(3)\n",
    "# FIXME: fix #N/A in row 1 of the vm report, skip for now\n",
    "time2 = time2[1:]\n",
    "colBalance = colBalance[1:]\n",
    "\n",
    "import matplotlib.pyplot as plt\n",
    "from matplotlib.gridspec import GridSpec\n",
    "\n",
    "fig = plt.figure(figsize=(15, 5))\n",
    "gs = GridSpec(nrows=1, ncols=2)\n",
    "\n",
    "ax0 = fig.add_subplot(gs[0, 0])\n",
    "ax0.plot(time, avgDim, label='IM')\n",
    "ax0.set(xlabel='Time/Years')\n",
    "ax0.set(ylabel='IM')\n",
    "ax0.set_title('IM Evolution')\n",
    "ax0.legend()\n",
    "\n",
    "ax1 = fig.add_subplot(gs[0, 1])\n",
    "ax1.plot(time2, colBalance, label='VM')\n",
    "ax1.set(xlabel='Time/Years')\n",
    "ax1.set(ylabel='VM')\n",
    "ax1.set_title('VM Evolution')\n",
    "ax1.legend()\n",
    "\n",
    "plt.show()"
   ]
  },
  {
   "cell_type": "code",
   "execution_count": null,
   "metadata": {},
   "outputs": [],
   "source": []
  }
 ],
 "metadata": {
  "anaconda-cloud": {},
  "extensions": {
   "jupyter_dashboards": {
    "activeView": "report_default",
    "version": 1,
    "views": {
     "grid_default": {
      "cellMargin": 10,
      "defaultCellHeight": 20,
      "maxColumns": 12,
      "name": "grid",
      "type": "grid"
     },
     "report_default": {
      "name": "report",
      "type": "report"
     }
    }
   }
  },
  "kernelspec": {
   "display_name": "Python 3 (ipykernel)",
   "language": "python",
   "name": "python3"
  },
  "language_info": {
   "codemirror_mode": {
    "name": "ipython",
    "version": 3
   },
   "file_extension": ".py",
   "mimetype": "text/x-python",
   "name": "python",
   "nbconvert_exporter": "python",
   "pygments_lexer": "ipython3",
   "version": "3.10.6"
  },
  "widgets": {
   "state": {
    "706c717787fc48baacd29c35c5b92bba": {
     "views": [
      {
       "cell_index": 13
      }
     ]
    }
   },
   "version": "1.2.0"
  }
 },
 "nbformat": 4,
 "nbformat_minor": 4
}
